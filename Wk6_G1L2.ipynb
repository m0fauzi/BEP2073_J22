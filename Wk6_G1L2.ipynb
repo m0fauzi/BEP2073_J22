{
  "nbformat": 4,
  "nbformat_minor": 0,
  "metadata": {
    "colab": {
      "name": "Wk6_G1L2.ipynb",
      "provenance": [],
      "authorship_tag": "ABX9TyMavNVWs7YrgKbzP4hBetVo",
      "include_colab_link": true
    },
    "kernelspec": {
      "name": "python3",
      "display_name": "Python 3"
    },
    "language_info": {
      "name": "python"
    }
  },
  "cells": [
    {
      "cell_type": "markdown",
      "metadata": {
        "id": "view-in-github",
        "colab_type": "text"
      },
      "source": [
        "<a href=\"https://colab.research.google.com/github/m0fauzi/BEP2073_J22/blob/main/Wk6_G1L2.ipynb\" target=\"_parent\"><img src=\"https://colab.research.google.com/assets/colab-badge.svg\" alt=\"Open In Colab\"/></a>"
      ]
    },
    {
      "cell_type": "code",
      "execution_count": null,
      "metadata": {
        "id": "-YmGJREG7xNJ"
      },
      "outputs": [],
      "source": [
        "x = 1\n",
        "y = x + 2"
      ]
    },
    {
      "cell_type": "code",
      "source": [
        "a = [10,12,23,42]\n",
        "print(a[3])"
      ],
      "metadata": {
        "colab": {
          "base_uri": "https://localhost:8080/"
        },
        "id": "nB4qiof38NJm",
        "outputId": "09daad03-fba5-4a0b-ff45-dd5c80182c69"
      },
      "execution_count": 2,
      "outputs": [
        {
          "output_type": "stream",
          "name": "stdout",
          "text": [
            "42\n"
          ]
        }
      ]
    },
    {
      "cell_type": "code",
      "source": [
        "x = {10,12,23,42}\n",
        "for i in x:\n",
        "  print(i)"
      ],
      "metadata": {
        "colab": {
          "base_uri": "https://localhost:8080/"
        },
        "id": "idXCfTgg8DnM",
        "outputId": "21d416f3-8014-4773-fa85-6a35c980aeca"
      },
      "execution_count": 10,
      "outputs": [
        {
          "output_type": "stream",
          "name": "stdout",
          "text": [
            "10\n",
            "12\n",
            "42\n",
            "23\n"
          ]
        }
      ]
    },
    {
      "cell_type": "code",
      "source": [
        "Car_A = {\n",
        "    \"Brand\":\"Ford\",\n",
        "    \"Model\":\"Mustang\",\n",
        "    \"Year\":2020\n",
        "}\n",
        "\n",
        "print(Car)"
      ],
      "metadata": {
        "colab": {
          "base_uri": "https://localhost:8080/"
        },
        "id": "sa7DcDvO9Xt9",
        "outputId": "9413af02-8cf3-4738-c383-4a8ed50ae9d8"
      },
      "execution_count": 12,
      "outputs": [
        {
          "output_type": "stream",
          "name": "stdout",
          "text": [
            "{'Brand': 'Ford', 'Model': 'Mustang', 'Year': 2020}\n"
          ]
        }
      ]
    },
    {
      "cell_type": "code",
      "source": [
        "Car_B = {\n",
        "    \"Brand\":\"Toyota\",\n",
        "    \"Model\":\"Vios\",\n",
        "    \"Year\":2022\n",
        "}"
      ],
      "metadata": {
        "id": "3l0IzxiJ99ye"
      },
      "execution_count": 14,
      "outputs": []
    },
    {
      "cell_type": "code",
      "source": [
        "type(Car_B)"
      ],
      "metadata": {
        "colab": {
          "base_uri": "https://localhost:8080/"
        },
        "id": "LPFHO1sQHAyA",
        "outputId": "b4ab4fc6-d9ca-4d28-b90a-f0212b00d275"
      },
      "execution_count": 32,
      "outputs": [
        {
          "output_type": "execute_result",
          "data": {
            "text/plain": [
              "dict"
            ]
          },
          "metadata": {},
          "execution_count": 32
        }
      ]
    },
    {
      "cell_type": "code",
      "source": [
        "print(Car_B['Model'])"
      ],
      "metadata": {
        "colab": {
          "base_uri": "https://localhost:8080/"
        },
        "id": "8nL4bDov9uXW",
        "outputId": "e39e4a69-3bce-4320-ff9d-48045b63eedc"
      },
      "execution_count": 16,
      "outputs": [
        {
          "output_type": "stream",
          "name": "stdout",
          "text": [
            "Vios\n"
          ]
        }
      ]
    },
    {
      "cell_type": "code",
      "source": [
        "A = [0.035,0.0001,10,2]\n",
        "\n",
        "# Channel A\n",
        "n = A[0]\n",
        "S = A[1]\n",
        "B = A[2]\n",
        "H = A[3]\n",
        "U = (S**0.5)/n*((B*H)/(B+2*H))**(2/3)\n",
        "print('Channel A: U = %0.3f m/s'%U)\n",
        "\n",
        "n,S,B,H = A[0],A[1],A[2],A[3]\n",
        "U = (S**0.5)/n*((B*H)/(B+2*H))**(2/3)\n",
        "print('Channel A: U = %0.3f m/s'%U)\n",
        "\n",
        "n,S,B,H = A\n",
        "U = (S**0.5)/n*((B*H)/(B+2*H))**(2/3)\n",
        "print('Channel A: U = %0.3f m/s'%U)\n"
      ],
      "metadata": {
        "colab": {
          "base_uri": "https://localhost:8080/"
        },
        "id": "-1o763JOB_uE",
        "outputId": "86b510bd-9ec8-4d4f-c713-5960c0faf09b"
      },
      "execution_count": 24,
      "outputs": [
        {
          "output_type": "stream",
          "name": "stdout",
          "text": [
            "Channel A: U = 0.362 m/s\n",
            "Channel A: U = 0.362 m/s\n",
            "Channel A: U = 0.362 m/s\n"
          ]
        }
      ]
    },
    {
      "cell_type": "code",
      "source": [
        "# Method: List\n",
        "\n",
        "A = [0.035,0.0001,10,2]\n",
        "B1 = [0.02,0.0002,8,1]\n",
        "C = [0.015,0.001,20,1.5]\n",
        "D = [0.030,0.007,24,3]\n",
        "E = [0.022,0.003,15,2.5]\n",
        "\n",
        "# Channel A\n",
        "n = A[0]\n",
        "S = \n",
        "n,S,B,H = A\n",
        "U = (S**0.5)/n*((B*H)/(B+2*H))**(2/3)\n",
        "print('Channel A: U = %0.3f'%U)\n",
        "\n",
        "# Channel B\n",
        "n,S,B,H = B1\n",
        "U = (S**0.5)/n*((B*H)/(B+2*H))**(2/3)\n",
        "print('Channel B: U = %0.3f'%U)\n",
        "\n",
        "# Channel C\n",
        "\n",
        "# Channel D\n",
        "\n",
        "# Channel E"
      ],
      "metadata": {
        "id": "e9hqTXhh_LwL"
      },
      "execution_count": null,
      "outputs": []
    },
    {
      "cell_type": "code",
      "source": [
        "# Method: List\n",
        "n = [0.035,0.02,0.015,0.03,0.022]\n",
        "S = [0.0001,0.0002,0.001,0.007,0.003]\n",
        "B = [10,8,20,24,15]\n",
        "H = [2,1,1.5,3,2.5]\n",
        "\n",
        "U = (S[0]**0.5)/n[0]*((B[0]*H[0])/(B[0]+2*H[0]))**(2/3)\n",
        "print('Channel A: U = %0.3f m/s'%U)"
      ],
      "metadata": {
        "colab": {
          "base_uri": "https://localhost:8080/"
        },
        "id": "PPIXjUiBBVxU",
        "outputId": "88434d91-ade9-4815-ded5-c20a065c0a5b"
      },
      "execution_count": 26,
      "outputs": [
        {
          "output_type": "stream",
          "name": "stdout",
          "text": [
            "Channel A: U = 0.362 m/s\n"
          ]
        }
      ]
    },
    {
      "cell_type": "code",
      "source": [
        "# Method: List\n",
        "n = [0.035,0.02,0.015,0.03,0.022]\n",
        "S = [0.0001,0.0002,0.001,0.007,0.003]\n",
        "B = [10,8,20,24,15]\n",
        "H = [2,1,1.5,3,2.5]\n",
        "chn = ['A','B','C','D','E']\n",
        "\n",
        "for i in range(5):\n",
        "  U = (S[i]**0.5)/n[i]*((B[i]*H[i])/(B[i]+2*H[i]))**(2/3)\n",
        "  print('Channel %s: (n,S,B,H): U = %0.3f m/s'%(chn[i],U))"
      ],
      "metadata": {
        "colab": {
          "base_uri": "https://localhost:8080/"
        },
        "id": "hAKkXmabEfps",
        "outputId": "9f01bd07-5ec0-472d-90c1-384a32819a15"
      },
      "execution_count": 31,
      "outputs": [
        {
          "output_type": "stream",
          "name": "stdout",
          "text": [
            "Channel A: (n,S,B,H): U = 0.362 m/s\n",
            "Channel B: (n,S,B,H): U = 0.609 m/s\n",
            "Channel C: (n,S,B,H): U = 2.517 m/s\n",
            "Channel D: (n,S,B,H): U = 4.999 m/s\n",
            "Channel E: (n,S,B,H): U = 3.786 m/s\n"
          ]
        }
      ]
    },
    {
      "cell_type": "code",
      "source": [
        "class House:\n",
        "  floors = 2\n",
        "  doors = 10\n",
        "print(House.floors)  \n",
        "\n",
        "A = House\n",
        "B = House\n",
        "\n",
        "B.floors = 1\n",
        "\n",
        "Sum_floors = A.floors + B.floors\n",
        "print(Sum_floors)"
      ],
      "metadata": {
        "colab": {
          "base_uri": "https://localhost:8080/"
        },
        "id": "Yv100YyVGSbN",
        "outputId": "12e0520d-3eb7-45b7-8399-0715e77b949b"
      },
      "execution_count": 39,
      "outputs": [
        {
          "output_type": "stream",
          "name": "stdout",
          "text": [
            "2\n",
            "2\n"
          ]
        }
      ]
    },
    {
      "cell_type": "code",
      "source": [
        "class House:\n",
        "  floors = 2\n",
        "  doors = 10\n",
        "  windows = 10\n",
        "\n",
        "#instance\n",
        "A = House()\n",
        "B = House()\n",
        "\n",
        "B.floors = 5\n",
        "\n",
        "Sum_floors = A.floors + B.floors\n",
        "print(Sum_floors)"
      ],
      "metadata": {
        "colab": {
          "base_uri": "https://localhost:8080/"
        },
        "id": "3b0ZHhBYI5ge",
        "outputId": "94545e7e-0fba-4290-9b06-35376eb64f96"
      },
      "execution_count": 42,
      "outputs": [
        {
          "output_type": "stream",
          "name": "stdout",
          "text": [
            "7\n"
          ]
        }
      ]
    }
  ]
}