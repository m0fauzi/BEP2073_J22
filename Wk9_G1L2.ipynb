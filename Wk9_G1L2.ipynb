{
  "nbformat": 4,
  "nbformat_minor": 0,
  "metadata": {
    "colab": {
      "name": "Wk9_G1L2.ipynb",
      "provenance": [],
      "authorship_tag": "ABX9TyOzW3qDB3yqMN5v/LkZ3I8C",
      "include_colab_link": true
    },
    "kernelspec": {
      "name": "python3",
      "display_name": "Python 3"
    },
    "language_info": {
      "name": "python"
    }
  },
  "cells": [
    {
      "cell_type": "markdown",
      "metadata": {
        "id": "view-in-github",
        "colab_type": "text"
      },
      "source": [
        "<a href=\"https://colab.research.google.com/github/m0fauzi/BEP2073_J22/blob/main/Wk9_G1L2.ipynb\" target=\"_parent\"><img src=\"https://colab.research.google.com/assets/colab-badge.svg\" alt=\"Open In Colab\"/></a>"
      ]
    },
    {
      "cell_type": "code",
      "execution_count": 1,
      "metadata": {
        "colab": {
          "base_uri": "https://localhost:8080/"
        },
        "id": "HcvhWa0lFOKb",
        "outputId": "563d907d-1e58-4517-d1b7-d02b39da8efc"
      },
      "outputs": [
        {
          "output_type": "stream",
          "name": "stdout",
          "text": [
            "28.285714285714285\n"
          ]
        }
      ],
      "source": [
        "# Area of circle\n",
        "r = 3\n",
        "A = 22/7*r**2\n",
        "print(A)"
      ]
    },
    {
      "cell_type": "code",
      "source": [
        "# Function approached\n",
        "\n",
        "def CircleArea(r):\n",
        "  A = 22/7*r**2\n",
        "  print(A)"
      ],
      "metadata": {
        "id": "Ssp7zubeFfX1"
      },
      "execution_count": 2,
      "outputs": []
    },
    {
      "cell_type": "code",
      "source": [
        "CircleArea(3)"
      ],
      "metadata": {
        "colab": {
          "base_uri": "https://localhost:8080/"
        },
        "id": "xgzJCawtFv1j",
        "outputId": "c6b062e8-e583-43b3-e4a1-788dd89d728e"
      },
      "execution_count": 3,
      "outputs": [
        {
          "output_type": "stream",
          "name": "stdout",
          "text": [
            "28.285714285714285\n"
          ]
        }
      ]
    },
    {
      "cell_type": "code",
      "source": [
        "def f(x):\n",
        "  return 3*x + 1\n",
        "\n",
        "def g(x,y):\n",
        "  ans = f(x) + 3*y\n",
        "  print(ans)"
      ],
      "metadata": {
        "id": "oG-mexh4GbDb"
      },
      "execution_count": 4,
      "outputs": []
    },
    {
      "cell_type": "code",
      "source": [
        "g(2,3)"
      ],
      "metadata": {
        "colab": {
          "base_uri": "https://localhost:8080/"
        },
        "id": "4fVlMBsUGycK",
        "outputId": "df00c7c4-a261-486d-b3f4-fa80a556eee3"
      },
      "execution_count": 5,
      "outputs": [
        {
          "output_type": "stream",
          "name": "stdout",
          "text": [
            "16\n"
          ]
        }
      ]
    },
    {
      "cell_type": "code",
      "source": [
        "for x in range(5):\n",
        "  for y in range(5):\n",
        "    g(x,y)"
      ],
      "metadata": {
        "colab": {
          "base_uri": "https://localhost:8080/"
        },
        "id": "enMIvAMmG50a",
        "outputId": "7ae0ad84-0426-4812-facd-c2437b3392f2"
      },
      "execution_count": 7,
      "outputs": [
        {
          "output_type": "stream",
          "name": "stdout",
          "text": [
            "1\n",
            "4\n",
            "7\n",
            "10\n",
            "13\n",
            "4\n",
            "7\n",
            "10\n",
            "13\n",
            "16\n",
            "7\n",
            "10\n",
            "13\n",
            "16\n",
            "19\n",
            "10\n",
            "13\n",
            "16\n",
            "19\n",
            "22\n",
            "13\n",
            "16\n",
            "19\n",
            "22\n",
            "25\n"
          ]
        }
      ]
    },
    {
      "cell_type": "code",
      "source": [
        "def f(x):\n",
        "  return 3*x + 1\n",
        "\n",
        "def g(x,y=1):\n",
        "  ans = f(x) + 3*y\n",
        "  print(ans)"
      ],
      "metadata": {
        "id": "3_RasRwAHT4V"
      },
      "execution_count": 8,
      "outputs": []
    },
    {
      "cell_type": "code",
      "source": [
        "g(2)"
      ],
      "metadata": {
        "colab": {
          "base_uri": "https://localhost:8080/"
        },
        "id": "6EJGQYXCHXFC",
        "outputId": "0952131d-5da0-4ba6-85da-f095b75e288f"
      },
      "execution_count": 9,
      "outputs": [
        {
          "output_type": "stream",
          "name": "stdout",
          "text": [
            "10\n"
          ]
        }
      ]
    },
    {
      "cell_type": "code",
      "source": [
        "g(2,3)"
      ],
      "metadata": {
        "colab": {
          "base_uri": "https://localhost:8080/"
        },
        "id": "hW5B4ikmHbWy",
        "outputId": "85add039-b282-47d1-b515-b10118cfdc4c"
      },
      "execution_count": 10,
      "outputs": [
        {
          "output_type": "stream",
          "name": "stdout",
          "text": [
            "16\n"
          ]
        }
      ]
    },
    {
      "cell_type": "code",
      "source": [
        "import circle as c\n",
        "\n",
        "c.Area(3)"
      ],
      "metadata": {
        "colab": {
          "base_uri": "https://localhost:8080/"
        },
        "id": "uwXI1KH7J6oR",
        "outputId": "ff2092c6-1d59-4a9c-be53-3770189ababb"
      },
      "execution_count": 11,
      "outputs": [
        {
          "output_type": "execute_result",
          "data": {
            "text/plain": [
              "28.274333882308138"
            ]
          },
          "metadata": {},
          "execution_count": 11
        }
      ]
    },
    {
      "cell_type": "code",
      "source": [
        "from circle import Area, Perimeter, x\n",
        "\n",
        "Area(3)"
      ],
      "metadata": {
        "colab": {
          "base_uri": "https://localhost:8080/"
        },
        "id": "J9WDvQ-AKUyZ",
        "outputId": "229e96de-daa0-4d3a-9f7b-c7d216b2f947"
      },
      "execution_count": 16,
      "outputs": [
        {
          "output_type": "execute_result",
          "data": {
            "text/plain": [
              "28.274333882308138"
            ]
          },
          "metadata": {},
          "execution_count": 16
        }
      ]
    },
    {
      "cell_type": "code",
      "source": [
        "import math\n",
        "\n",
        "math.pi"
      ],
      "metadata": {
        "colab": {
          "base_uri": "https://localhost:8080/"
        },
        "id": "cd7Vo2V4Kfnx",
        "outputId": "7133e21f-a93e-416c-987b-36e64c32d475"
      },
      "execution_count": 13,
      "outputs": [
        {
          "output_type": "execute_result",
          "data": {
            "text/plain": [
              "3.141592653589793"
            ]
          },
          "metadata": {},
          "execution_count": 13
        }
      ]
    },
    {
      "cell_type": "code",
      "source": [
        "import circle\n",
        "\n",
        "circle.x"
      ],
      "metadata": {
        "colab": {
          "base_uri": "https://localhost:8080/"
        },
        "id": "A-jIabpxKlyk",
        "outputId": "b9f4031e-7438-46b1-eff7-ea0498b9a00c"
      },
      "execution_count": 14,
      "outputs": [
        {
          "output_type": "execute_result",
          "data": {
            "text/plain": [
              "3"
            ]
          },
          "metadata": {},
          "execution_count": 14
        }
      ]
    },
    {
      "cell_type": "code",
      "source": [
        "import exercise1 as ex1\n",
        "\n",
        "#Case 1\n",
        "m,P,T = 32,50,325\n",
        "\n",
        "Ans = ex1.V(m,P,T)\n",
        "print('Volume for CO2 (Mw = %d) is %0.5f L' %(ex1.Mw,Ans))\n",
        "\n",
        "#Case 2\n",
        "m,P,T = 25,70,450\n",
        "\n",
        "Ans = ex1.V(m,P,T)\n",
        "print('Volume for CO2 with R = %0.5f is %0.5f L' %(ex1.R,Ans))"
      ],
      "metadata": {
        "colab": {
          "base_uri": "https://localhost:8080/"
        },
        "id": "otWCqcbGNp3w",
        "outputId": "d881ebd6-205f-419d-cfb9-0332a5d12d87"
      },
      "execution_count": 24,
      "outputs": [
        {
          "output_type": "stream",
          "name": "stdout",
          "text": [
            "Volume for CO2 (Mw = 44) is 0.00918 L\n",
            "Volume for CO2 with R = 0.08206 is 0.00725 L\n"
          ]
        }
      ]
    },
    {
      "cell_type": "code",
      "source": [
        "class House:\n",
        "  floors = 2\n",
        "  doors = 5 "
      ],
      "metadata": {
        "id": "RcK2wLgtOI7g"
      },
      "execution_count": 25,
      "outputs": []
    },
    {
      "cell_type": "code",
      "source": [
        "hse1 = House()\n",
        "hse1.doors = 6\n",
        "hse2 = House()\n",
        "hse2.doors = 3\n",
        "\n",
        "TotDoors = hse1.doors + hse2.doors\n",
        "print(TotDoors)"
      ],
      "metadata": {
        "colab": {
          "base_uri": "https://localhost:8080/"
        },
        "id": "idSI-DR-QFHt",
        "outputId": "11f35f05-e8d6-409c-aa57-eab3e942d554"
      },
      "execution_count": 30,
      "outputs": [
        {
          "output_type": "stream",
          "name": "stdout",
          "text": [
            "9\n"
          ]
        }
      ]
    },
    {
      "cell_type": "code",
      "source": [
        "hse1_doors = 6\n",
        "hse2_doors = 3\n",
        "totDoors = hse1_doors + hse2_doors\n",
        "print(totDoors)"
      ],
      "metadata": {
        "colab": {
          "base_uri": "https://localhost:8080/"
        },
        "id": "WbP1c5AKTiIG",
        "outputId": "024e22f5-8d4c-4ac6-e361-6fedd668d450"
      },
      "execution_count": 39,
      "outputs": [
        {
          "output_type": "stream",
          "name": "stdout",
          "text": [
            "9\n"
          ]
        }
      ]
    },
    {
      "cell_type": "code",
      "source": [
        "class ComplexNumber:\n",
        "  def __init__(self,r,i):\n",
        "    self.real = r\n",
        "    self.imag = i\n",
        "  \n",
        "  def getData(self):\n",
        "    print('%d + %di' %(self.real,self.imag))"
      ],
      "metadata": {
        "id": "e0WLeJ2WQ00u"
      },
      "execution_count": 31,
      "outputs": []
    },
    {
      "cell_type": "code",
      "source": [
        "cn = ComplexNumber(2,3)\n",
        "cn.getData()"
      ],
      "metadata": {
        "colab": {
          "base_uri": "https://localhost:8080/"
        },
        "id": "0NwyGXHRRuUX",
        "outputId": "478bdaf5-948b-44f4-fbf3-785d732c10f2"
      },
      "execution_count": 33,
      "outputs": [
        {
          "output_type": "stream",
          "name": "stdout",
          "text": [
            "2 + 3i\n"
          ]
        }
      ]
    },
    {
      "cell_type": "code",
      "source": [
        "class Student():\n",
        "    \n",
        "  def __init__(self):\n",
        "       self.StudentList = []\n",
        "   \n",
        "  def addStudent(self,name): \n",
        "        self.StudentList.append(name)\n"
      ],
      "metadata": {
        "id": "99i4zTINSYvG"
      },
      "execution_count": 34,
      "outputs": []
    },
    {
      "cell_type": "code",
      "source": [
        "s = Student()\n",
        "s.addStudent('Adam')\n",
        "s.addStudent('Tan')\n",
        "s.addStudent('Mic')\n",
        "\n",
        "print(s.StudentList)\n",
        "\n",
        "s1 = Student()\n",
        "s1.addStudent('ABC')\n",
        "s1.addStudent('DEF')\n",
        "s1.addStudent('GHI')\n",
        "\n",
        "print(s1.StudentList)"
      ],
      "metadata": {
        "colab": {
          "base_uri": "https://localhost:8080/"
        },
        "id": "zrFtRklgSqYW",
        "outputId": "1d62dea5-08a9-4b3a-8c88-09f3940f6b39"
      },
      "execution_count": 37,
      "outputs": [
        {
          "output_type": "stream",
          "name": "stdout",
          "text": [
            "['Adam', 'Tan', 'Mic']\n",
            "['ABC', 'DEF', 'GHI']\n"
          ]
        }
      ]
    },
    {
      "cell_type": "code",
      "source": [
        "s1List = []\n",
        "s2List = []\n",
        "\n",
        "s1List.append('Adam')\n",
        "s1List.append('Tan')\n",
        "s1List.append('Mic')\n",
        "\n",
        "s2List.append('ABC')\n",
        "s2List.append('DEF')\n",
        "s2List.append('GHI')\n",
        "\n",
        "print(s1List)\n",
        "print(s2List)\n"
      ],
      "metadata": {
        "colab": {
          "base_uri": "https://localhost:8080/"
        },
        "id": "zxVxy1b4T9Ko",
        "outputId": "2c19460c-4bb0-4fd7-f44c-6f3f2e5f3ed1"
      },
      "execution_count": 41,
      "outputs": [
        {
          "output_type": "stream",
          "name": "stdout",
          "text": [
            "['Adam', 'Tan', 'Mic']\n",
            "['ABC', 'DEF', 'GHI']\n"
          ]
        }
      ]
    },
    {
      "cell_type": "code",
      "source": [
        "try:\n",
        "  ratio = x/y \n",
        "  print('The ratio is’ + str(ratio))\n",
        "except ZeroDivisionError as e:\n",
        "    print(‘Error: ’,e) \n"
      ],
      "metadata": {
        "id": "QorZ9oW1U2Tc"
      },
      "execution_count": null,
      "outputs": []
    },
    {
      "cell_type": "code",
      "source": [
        "\n",
        "try:\n",
        "  ratio = 2/3\n",
        "  print(ratio)\n",
        "except ZeroDivisionError as e:\n",
        "  print(e)"
      ],
      "metadata": {
        "colab": {
          "base_uri": "https://localhost:8080/"
        },
        "id": "p6kxKit9U6mU",
        "outputId": "0bccfe84-eb13-44ba-dd64-2f653f628165"
      },
      "execution_count": 44,
      "outputs": [
        {
          "output_type": "stream",
          "name": "stdout",
          "text": [
            "0.6666666666666666\n"
          ]
        }
      ]
    },
    {
      "cell_type": "code",
      "source": [
        "2/0"
      ],
      "metadata": {
        "colab": {
          "base_uri": "https://localhost:8080/",
          "height": 169
        },
        "id": "-HMCIe-bVJGF",
        "outputId": "41a686f5-145f-4fc8-f39e-84ad29e07d4a"
      },
      "execution_count": 42,
      "outputs": [
        {
          "output_type": "error",
          "ename": "ZeroDivisionError",
          "evalue": "ignored",
          "traceback": [
            "\u001b[0;31m---------------------------------------------------------------------------\u001b[0m",
            "\u001b[0;31mZeroDivisionError\u001b[0m                         Traceback (most recent call last)",
            "\u001b[0;32m<ipython-input-42-e8326a161779>\u001b[0m in \u001b[0;36m<module>\u001b[0;34m()\u001b[0m\n\u001b[0;32m----> 1\u001b[0;31m \u001b[0;36m2\u001b[0m\u001b[0;34m/\u001b[0m\u001b[0;36m0\u001b[0m\u001b[0;34m\u001b[0m\u001b[0;34m\u001b[0m\u001b[0m\n\u001b[0m",
            "\u001b[0;31mZeroDivisionError\u001b[0m: division by zero"
          ]
        }
      ]
    }
  ]
}