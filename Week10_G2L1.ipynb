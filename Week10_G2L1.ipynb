{
  "nbformat": 4,
  "nbformat_minor": 0,
  "metadata": {
    "colab": {
      "name": "Week10_G2L1.ipynb",
      "provenance": [],
      "authorship_tag": "ABX9TyP9+uCNZEoyRvGe0CWDjwfP",
      "include_colab_link": true
    },
    "kernelspec": {
      "name": "python3",
      "display_name": "Python 3"
    },
    "language_info": {
      "name": "python"
    }
  },
  "cells": [
    {
      "cell_type": "markdown",
      "metadata": {
        "id": "view-in-github",
        "colab_type": "text"
      },
      "source": [
        "<a href=\"https://colab.research.google.com/github/m0fauzi/BEP2073_J22/blob/main/Week10_G2L1.ipynb\" target=\"_parent\"><img src=\"https://colab.research.google.com/assets/colab-badge.svg\" alt=\"Open In Colab\"/></a>"
      ]
    },
    {
      "cell_type": "code",
      "execution_count": 7,
      "metadata": {
        "colab": {
          "base_uri": "https://localhost:8080/"
        },
        "id": "Ku2w6LmX0FKq",
        "outputId": "db15db27-bb81-4d3b-9dd5-509f366434d7"
      },
      "outputs": [
        {
          "output_type": "stream",
          "name": "stdout",
          "text": [
            "Case 1: V = 0.00918L\n",
            "Case 2: V = 0.00725L\n"
          ]
        }
      ],
      "source": [
        "'''\n",
        "Exercise L5.1\n",
        "\n",
        "Develop a module to calculate volume for CO2 gas at certain \n",
        "mass, pressure and temperature. \n",
        "Given: R = 0.08206 L (atm)/K (mol) \n",
        "Use each of the equation as a function inside the module\n",
        "--> n = m/Mw\n",
        "--> V = nRT/P\n",
        "\n",
        "By using developed module, compute and display result \n",
        "for CO2 volume in cases below:\n",
        "Case 1: m = 32 g, P = 50 atm, T = 325 K \n",
        "Case 2: m = 25 g, P = 70 atm, T = 450 K\n",
        "\n",
        "'''\n",
        "\n",
        "import module2 as m2\n",
        "\n",
        "#Case 1: m = 32 g, P = 50 atm, T = 325 K\n",
        "ans = m2.V(32,50,325)\n",
        "print('Case 1: V = %0.5fL' %ans)\n",
        "\n",
        "#Case 2: m = 25 g, P = 70 atm, T = 450 K\n",
        "ans = m2.V(25,70,450)\n",
        "print('Case 2: V = %0.5fL' %ans)"
      ]
    },
    {
      "cell_type": "code",
      "source": [
        "from module2 import V\n",
        "\n",
        "ans = V(32,50,325)\n",
        "print('Case 1: V = %0.5fL'\n",
        "       %ans)"
      ],
      "metadata": {
        "colab": {
          "base_uri": "https://localhost:8080/"
        },
        "id": "tRnHktS44Fu3",
        "outputId": "d79c1cbc-5af8-42ca-fc13-ab934dc605e7"
      },
      "execution_count": 9,
      "outputs": [
        {
          "output_type": "stream",
          "name": "stdout",
          "text": [
            "Case 1: V = 0.00918L\n"
          ]
        }
      ]
    },
    {
      "cell_type": "code",
      "source": [
        "class House:\n",
        "  door = 5\n",
        "  room = 3\n",
        "\n",
        "h1 = House()\n",
        "h1.door = 8\n",
        "h2 = House()\n",
        "h2.door = 6\n",
        "\n",
        "print(h1.door)\n",
        "print(h2.door)\n"
      ],
      "metadata": {
        "colab": {
          "base_uri": "https://localhost:8080/"
        },
        "id": "5zOvbcjm43aI",
        "outputId": "098fb83d-cd09-4c7f-be26-fb706318f4fc"
      },
      "execution_count": 13,
      "outputs": [
        {
          "output_type": "stream",
          "name": "stdout",
          "text": [
            "8\n",
            "6\n"
          ]
        }
      ]
    },
    {
      "cell_type": "code",
      "source": [
        "class CN:\n",
        "  def __init__(self,r,i):\n",
        "    self.real = r\n",
        "    self.imag = i\n",
        "\n",
        "  def get_num(self):\n",
        "    m,n = self.real, self.imag\n",
        "    print('%d + %di'%(m,n))  # Output example: 3 + 4i"
      ],
      "metadata": {
        "id": "JBFhFQgd5vjn"
      },
      "execution_count": 14,
      "outputs": []
    },
    {
      "cell_type": "code",
      "source": [
        "c = CN(3,4)\n",
        "c.get_num()"
      ],
      "metadata": {
        "colab": {
          "base_uri": "https://localhost:8080/"
        },
        "id": "clmX4klg6-6W",
        "outputId": "f64d5a41-dd4e-4d97-8a5f-fdf4b7414523"
      },
      "execution_count": 15,
      "outputs": [
        {
          "output_type": "stream",
          "name": "stdout",
          "text": [
            "3 + 4i\n"
          ]
        }
      ]
    },
    {
      "cell_type": "code",
      "source": [
        "class Student():\n",
        "\n",
        "  def __init__(self):\n",
        "    self.studentList = []\n",
        "  \n",
        "  def AddStudent(self,name):\n",
        "    self.studentList.append(name)\n",
        "\n",
        "  def displayList(self):\n",
        "    print(self.studentList)"
      ],
      "metadata": {
        "id": "wOvFKIVW78M2"
      },
      "execution_count": 29,
      "outputs": []
    },
    {
      "cell_type": "code",
      "source": [
        "s1 = Student()\n",
        "s1.AddStudent('ABC')"
      ],
      "metadata": {
        "id": "blXIFu_w8UKH"
      },
      "execution_count": 18,
      "outputs": []
    },
    {
      "cell_type": "code",
      "source": [
        "i = 0\n",
        "\n",
        "while True:\n",
        "  i = i + 1\n",
        "  if i > 5:\n",
        "    break\n",
        "  else:\n",
        "    print(i)"
      ],
      "metadata": {
        "colab": {
          "base_uri": "https://localhost:8080/"
        },
        "id": "zz6izJYD9VLd",
        "outputId": "36a15248-e702-4b00-9884-bf83b150296c"
      },
      "execution_count": 19,
      "outputs": [
        {
          "output_type": "stream",
          "name": "stdout",
          "text": [
            "1\n",
            "2\n",
            "3\n",
            "4\n",
            "5\n"
          ]
        }
      ]
    },
    {
      "cell_type": "code",
      "source": [
        "while True:\n",
        "  print('========= Menu ========')\n",
        "  print('Select on the below:')\n",
        "  print('1 - Data Entry')\n",
        "  print('2 - Exit')\n",
        "  print('-----------------------')\n",
        "  opt = input('Selection: ')\n",
        "\n",
        "  if opt == '1':\n",
        "    print('Data Entry')\n",
        "  elif opt == '2':\n",
        "    print('Good bye..')\n",
        "    break\n",
        "  else:\n",
        "    print('Wrong selection. Please try again!!')\n",
        "  print('\\n')\n"
      ],
      "metadata": {
        "colab": {
          "base_uri": "https://localhost:8080/"
        },
        "id": "X7M17T_M9rV9",
        "outputId": "1a56167a-98fe-4e17-ec8f-895d938e1c06"
      },
      "execution_count": 25,
      "outputs": [
        {
          "output_type": "stream",
          "name": "stdout",
          "text": [
            "========= Menu ========\n",
            "Select on the below:\n",
            "1 - Data Entry\n",
            "2 - Exit\n",
            "-----------------------\n",
            "Selection: 1\n",
            "Data Entry\n",
            "\n",
            "\n",
            "========= Menu ========\n",
            "Select on the below:\n",
            "1 - Data Entry\n",
            "2 - Exit\n",
            "-----------------------\n",
            "Selection: 1\n",
            "Data Entry\n",
            "\n",
            "\n",
            "========= Menu ========\n",
            "Select on the below:\n",
            "1 - Data Entry\n",
            "2 - Exit\n",
            "-----------------------\n",
            "Selection: 1\n",
            "Data Entry\n",
            "\n",
            "\n",
            "========= Menu ========\n",
            "Select on the below:\n",
            "1 - Data Entry\n",
            "2 - Exit\n",
            "-----------------------\n",
            "Selection: 2\n",
            "Good bye..\n"
          ]
        }
      ]
    },
    {
      "cell_type": "code",
      "source": [
        "s = Student()\n",
        "count = 0\n",
        "while True:\n",
        "  print('========= Menu ========')\n",
        "  print('Select on the below:')\n",
        "  print('1 - Data Entry')\n",
        "  print('2 - Exit')\n",
        "  print('-----------------------')\n",
        "  opt = input('Selection: ')\n",
        "\n",
        "  if opt == '1':\n",
        "    count = count + 1\n",
        "    print('Data Entry: %d' %count)\n",
        "    s.AddStudent(input('Name: '))\n",
        "  elif opt == '2':\n",
        "    print('Good bye..')\n",
        "    break\n",
        "  else:\n",
        "    print('Wrong selection. Please try again!!')\n",
        "  print('\\n')\n"
      ],
      "metadata": {
        "id": "Cs9MuaSYAKgd"
      },
      "execution_count": null,
      "outputs": []
    },
    {
      "cell_type": "code",
      "source": [
        "s = Student()\n",
        "count = 0\n",
        "while True:\n",
        "  print('========= Menu ========')\n",
        "  print('Select on the below:')\n",
        "  print('1 - Data Entry')\n",
        "  print('2 - Display Students')\n",
        "  print('3 - Exit')\n",
        "  print('-----------------------')\n",
        "  opt = input('Selection: ')\n",
        "\n",
        "  if opt == '1':\n",
        "    count = count + 1\n",
        "    print('Data Entry: %d' %count)\n",
        "    s.AddStudent(input('Name: '))\n",
        "  elif opt == '2':\n",
        "    s.displayList()\n",
        "  elif opt == '3':\n",
        "    print('Good bye..')\n",
        "    break\n",
        "  else:\n",
        "    print('Wrong selection. Please try again!!')\n",
        "  print('\\n')"
      ],
      "metadata": {
        "colab": {
          "base_uri": "https://localhost:8080/"
        },
        "id": "NNP08Cy2Bapb",
        "outputId": "29ac9cdd-f1fc-4ee1-c90f-5d51253283e1"
      },
      "execution_count": 30,
      "outputs": [
        {
          "output_type": "stream",
          "name": "stdout",
          "text": [
            "========= Menu ========\n",
            "Select on the below:\n",
            "1 - Data Entry\n",
            "2 - Display Students\n",
            "3 - Exit\n",
            "-----------------------\n",
            "Selection: 1\n",
            "Data Entry: 1\n",
            "Name: ABC\n",
            "\n",
            "\n",
            "========= Menu ========\n",
            "Select on the below:\n",
            "1 - Data Entry\n",
            "2 - Display Students\n",
            "3 - Exit\n",
            "-----------------------\n",
            "Selection: 1\n",
            "Data Entry: 2\n",
            "Name: DEF\n",
            "\n",
            "\n",
            "========= Menu ========\n",
            "Select on the below:\n",
            "1 - Data Entry\n",
            "2 - Display Students\n",
            "3 - Exit\n",
            "-----------------------\n",
            "Selection: 2\n",
            "['ABC', 'DEF']\n",
            "\n",
            "\n",
            "========= Menu ========\n",
            "Select on the below:\n",
            "1 - Data Entry\n",
            "2 - Display Students\n",
            "3 - Exit\n",
            "-----------------------\n",
            "Selection: 3\n",
            "Good bye..\n"
          ]
        }
      ]
    },
    {
      "cell_type": "code",
      "source": [
        "i = 0\n",
        "\n",
        "while True:\n",
        "  i = int(input('i = '))\n",
        "  if i == 1:\n",
        "    print(i)\n",
        "  elif i == 11:\n",
        "    break;"
      ],
      "metadata": {
        "colab": {
          "base_uri": "https://localhost:8080/",
          "height": 253
        },
        "id": "JXMsc7PpCbIk",
        "outputId": "eac4fb27-37d1-4a3a-b0df-c6a13c73b1c4"
      },
      "execution_count": 33,
      "outputs": [
        {
          "name": "stdout",
          "output_type": "stream",
          "text": [
            "i = a\n"
          ]
        },
        {
          "output_type": "error",
          "ename": "ValueError",
          "evalue": "ignored",
          "traceback": [
            "\u001b[0;31m---------------------------------------------------------------------------\u001b[0m",
            "\u001b[0;31mValueError\u001b[0m                                Traceback (most recent call last)",
            "\u001b[0;32m<ipython-input-33-e94459adc3e0>\u001b[0m in \u001b[0;36m<module>\u001b[0;34m()\u001b[0m\n\u001b[1;32m      2\u001b[0m \u001b[0;34m\u001b[0m\u001b[0m\n\u001b[1;32m      3\u001b[0m \u001b[0;32mwhile\u001b[0m \u001b[0;32mTrue\u001b[0m\u001b[0;34m:\u001b[0m\u001b[0;34m\u001b[0m\u001b[0;34m\u001b[0m\u001b[0m\n\u001b[0;32m----> 4\u001b[0;31m   \u001b[0mi\u001b[0m \u001b[0;34m=\u001b[0m \u001b[0mint\u001b[0m\u001b[0;34m(\u001b[0m\u001b[0minput\u001b[0m\u001b[0;34m(\u001b[0m\u001b[0;34m'i = '\u001b[0m\u001b[0;34m)\u001b[0m\u001b[0;34m)\u001b[0m\u001b[0;34m\u001b[0m\u001b[0;34m\u001b[0m\u001b[0m\n\u001b[0m\u001b[1;32m      5\u001b[0m   \u001b[0;32mif\u001b[0m \u001b[0mi\u001b[0m \u001b[0;34m==\u001b[0m \u001b[0;36m1\u001b[0m\u001b[0;34m:\u001b[0m\u001b[0;34m\u001b[0m\u001b[0;34m\u001b[0m\u001b[0m\n\u001b[1;32m      6\u001b[0m     \u001b[0mprint\u001b[0m\u001b[0;34m(\u001b[0m\u001b[0mi\u001b[0m\u001b[0;34m)\u001b[0m\u001b[0;34m\u001b[0m\u001b[0;34m\u001b[0m\u001b[0m\n",
            "\u001b[0;31mValueError\u001b[0m: invalid literal for int() with base 10: 'a'"
          ]
        }
      ]
    },
    {
      "cell_type": "code",
      "source": [
        "i = 0\n",
        "\n",
        "while True:\n",
        "  try:\n",
        "    i = int(input('i = '))\n",
        "    if i == 1:\n",
        "      print(i)\n",
        "    elif i == 11:\n",
        "      break;\n",
        "  except ValueError as e:\n",
        "    print('Error: ', e)\n"
      ],
      "metadata": {
        "colab": {
          "base_uri": "https://localhost:8080/"
        },
        "id": "DFv9dJIrDXR7",
        "outputId": "c13057b0-8326-4577-bdb6-ae2947614a03"
      },
      "execution_count": 34,
      "outputs": [
        {
          "name": "stdout",
          "output_type": "stream",
          "text": [
            "i = 1\n",
            "1\n",
            "i = 2\n",
            "i = 1\n",
            "1\n",
            "i = a\n",
            "Error:  invalid literal for int() with base 10: 'a'\n",
            "i = 1\n",
            "1\n",
            "i = 11\n"
          ]
        }
      ]
    }
  ]
}