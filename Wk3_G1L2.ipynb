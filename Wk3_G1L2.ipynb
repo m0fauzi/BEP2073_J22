{
  "nbformat": 4,
  "nbformat_minor": 0,
  "metadata": {
    "colab": {
      "name": "Wk3_G1L2.ipynb",
      "provenance": [],
      "authorship_tag": "ABX9TyPX9y7D4l1IlzHjdKRG1woU",
      "include_colab_link": true
    },
    "kernelspec": {
      "name": "python3",
      "display_name": "Python 3"
    },
    "language_info": {
      "name": "python"
    }
  },
  "cells": [
    {
      "cell_type": "markdown",
      "metadata": {
        "id": "view-in-github",
        "colab_type": "text"
      },
      "source": [
        "<a href=\"https://colab.research.google.com/github/m0fauzi/BEP2073_J22/blob/main/Wk3_G1L2.ipynb\" target=\"_parent\"><img src=\"https://colab.research.google.com/assets/colab-badge.svg\" alt=\"Open In Colab\"/></a>"
      ]
    },
    {
      "cell_type": "code",
      "execution_count": null,
      "metadata": {
        "colab": {
          "base_uri": "https://localhost:8080/"
        },
        "id": "aLuWhwQYzfBj",
        "outputId": "c9ec2b21-58ec-42d6-a079-900cc02520f4"
      },
      "outputs": [
        {
          "output_type": "stream",
          "name": "stdout",
          "text": [
            "4.525714285714286\n"
          ]
        }
      ],
      "source": [
        "r = 1.2\n",
        "Area = 22/7 * r **2\n",
        "print(Area)"
      ]
    },
    {
      "cell_type": "code",
      "source": [
        "FirstName = \"Mohd\"\n",
        "LastName = 'Fauzi'\n",
        "\n",
        "rev_order = LastName+' '+FirstName\n",
        "print(rev_order)\n"
      ],
      "metadata": {
        "colab": {
          "base_uri": "https://localhost:8080/"
        },
        "id": "L_PczCIl3QWN",
        "outputId": "960d010d-acfd-4632-8e13-94fddb375a00"
      },
      "execution_count": null,
      "outputs": [
        {
          "output_type": "stream",
          "name": "stdout",
          "text": [
            "Fauzi Mohd\n"
          ]
        }
      ]
    },
    {
      "cell_type": "code",
      "source": [
        "# Q3\n",
        "no1 = int(input('No 1 = '))\n",
        "no2 = int(input('No 2 = '))\n",
        "no3 = int(input('No 3 = '))\n",
        "no4 = int(input('No 4 = '))\n",
        "no5 = int(input('No 5 = '))\n",
        "no6 = int(input('No 6 = '))\n",
        "no7 = int(input('No 7 = '))\n",
        "no8 = int(input('No 8 = '))\n",
        "no9 = int(input('No 9 = '))\n",
        "no10 = int(input('No 10 = '))\n",
        "Ans = no1*no2*no3*no4*no5*no6*no7*no8*no9*no10\n",
        "print(Ans)"
      ],
      "metadata": {
        "colab": {
          "base_uri": "https://localhost:8080/"
        },
        "id": "1RAn63cy68Fl",
        "outputId": "4e939b11-8314-44ae-ef2b-246588f2f3b7"
      },
      "execution_count": null,
      "outputs": [
        {
          "output_type": "stream",
          "name": "stdout",
          "text": [
            "No 1 = 3\n",
            "No 2 = 6\n",
            "No 3 = 8\n",
            "No 4 = 9\n",
            "No 5 = 1\n",
            "No 6 = 2\n",
            "No 7 = 5\n",
            "No 8 = 7\n",
            "No 9 = 4\n",
            "No 10 = 11\n",
            "3991680\n"
          ]
        }
      ]
    },
    {
      "cell_type": "code",
      "source": [
        "for i in range(10):\n",
        "  no1 = input('No '+str(i+1)+' = ')"
      ],
      "metadata": {
        "colab": {
          "base_uri": "https://localhost:8080/"
        },
        "id": "WLp2yh9j8fU8",
        "outputId": "c13e8a7d-96e7-4621-88e0-43fa3b0ccf1c"
      },
      "execution_count": null,
      "outputs": [
        {
          "name": "stdout",
          "output_type": "stream",
          "text": [
            "No 1 = 2\n",
            "No 2 = 9\n",
            "No 3 = 10\n"
          ]
        }
      ]
    },
    {
      "cell_type": "code",
      "source": [
        "x = 5\n",
        "print('Value of x is ' + str(x))"
      ],
      "metadata": {
        "colab": {
          "base_uri": "https://localhost:8080/"
        },
        "id": "IiMnjF1H977j",
        "outputId": "eb8b96c4-6fa4-469d-c0fb-405c805c2765"
      },
      "execution_count": null,
      "outputs": [
        {
          "output_type": "stream",
          "name": "stdout",
          "text": [
            "Value of x is 5\n"
          ]
        }
      ]
    },
    {
      "cell_type": "code",
      "source": [
        "x = 5\n",
        "print('Value of x is', x)"
      ],
      "metadata": {
        "colab": {
          "base_uri": "https://localhost:8080/"
        },
        "id": "qNjbn8fw-Q1N",
        "outputId": "30b6466c-8bea-451c-c4bb-a6af1cab958c"
      },
      "execution_count": null,
      "outputs": [
        {
          "output_type": "stream",
          "name": "stdout",
          "text": [
            "Value of x is 5\n"
          ]
        }
      ]
    },
    {
      "cell_type": "code",
      "source": [
        "A = [6,9,3,8,5]\n",
        "Ans6 = A[2]*A[3]\n",
        "print(Ans6)"
      ],
      "metadata": {
        "colab": {
          "base_uri": "https://localhost:8080/"
        },
        "id": "wo1irPEp-3fF",
        "outputId": "be9f13d9-bc87-445b-f4a6-99be87aebce5"
      },
      "execution_count": null,
      "outputs": [
        {
          "output_type": "stream",
          "name": "stdout",
          "text": [
            "24\n"
          ]
        }
      ]
    },
    {
      "cell_type": "code",
      "source": [
        "X = [10,20,20,20]\n",
        "Y = [10,25,30,40]\n",
        "\n",
        "print(X[0]+Y[0])\n",
        "print(X[0]+Y[1])\n",
        "print(X[0]+Y[2])\n",
        "print(X[0]+Y[3])\n",
        "\n",
        "print(X[1]+Y[0])\n",
        "print(X[1]+Y[1])\n",
        "print(X[1]+Y[2])\n",
        "print(X[1]+Y[3])\n",
        "\n",
        "print(X[2]+Y[0])\n",
        "print(X[2]+Y[1])\n",
        "print(X[2]+Y[2])\n",
        "print(X[2]+Y[3])\n",
        "\n",
        "print(X[3]+Y[0])\n",
        "print(X[3]+Y[1])\n",
        "print(X[3]+Y[2])\n",
        "print(X[3]+Y[3])\n"
      ],
      "metadata": {
        "colab": {
          "base_uri": "https://localhost:8080/"
        },
        "id": "aoTcJBnE_cLd",
        "outputId": "28547238-c92f-4a3d-9a69-6f7ddd4f51e4"
      },
      "execution_count": null,
      "outputs": [
        {
          "output_type": "stream",
          "name": "stdout",
          "text": [
            "20\n",
            "35\n",
            "40\n",
            "50\n",
            "30\n",
            "45\n",
            "50\n",
            "60\n",
            "30\n",
            "45\n",
            "50\n",
            "60\n",
            "30\n",
            "45\n",
            "50\n",
            "60\n"
          ]
        }
      ]
    },
    {
      "cell_type": "code",
      "source": [
        "X = [10,20,20,20]\n",
        "Y = [10,25,30,40]\n",
        "c = 0\n",
        "for i in X:\n",
        "  for j in Y:\n",
        "    if(i+j>50):\n",
        "      c = c + 1\n",
        "\n",
        "print('Count = ',c)\n",
        "      \n"
      ],
      "metadata": {
        "colab": {
          "base_uri": "https://localhost:8080/"
        },
        "id": "vlQhnDWjBh-k",
        "outputId": "c6879c12-9e64-4f72-bb40-5550b0775686"
      },
      "execution_count": 31,
      "outputs": [
        {
          "output_type": "stream",
          "name": "stdout",
          "text": [
            "Count =  3\n"
          ]
        }
      ]
    }
  ]
}