{
  "nbformat": 4,
  "nbformat_minor": 0,
  "metadata": {
    "colab": {
      "name": "Wk6_G2L1.ipynb",
      "provenance": [],
      "authorship_tag": "ABX9TyNrzQt4dYdaIjinmSQun+Nc",
      "include_colab_link": true
    },
    "kernelspec": {
      "name": "python3",
      "display_name": "Python 3"
    },
    "language_info": {
      "name": "python"
    }
  },
  "cells": [
    {
      "cell_type": "markdown",
      "metadata": {
        "id": "view-in-github",
        "colab_type": "text"
      },
      "source": [
        "<a href=\"https://colab.research.google.com/github/m0fauzi/BEP2073_J22/blob/main/Wk6_G2L1.ipynb\" target=\"_parent\"><img src=\"https://colab.research.google.com/assets/colab-badge.svg\" alt=\"Open In Colab\"/></a>"
      ]
    },
    {
      "cell_type": "code",
      "execution_count": 9,
      "metadata": {
        "colab": {
          "base_uri": "https://localhost:8080/"
        },
        "id": "I7BN-sdjrwFA",
        "outputId": "8dc986b8-2739-4d9f-c855-f767828521b1"
      },
      "outputs": [
        {
          "output_type": "stream",
          "name": "stdout",
          "text": [
            "x = 2 is prime number\n"
          ]
        }
      ],
      "source": [
        "x = 2\n",
        "if x > 1:\n",
        "  for i in range(2,x):\n",
        "    if x%i == 0:\n",
        "      print('x = %d is not prime number' %x)\n",
        "      break\n",
        "  else:\n",
        "    print('x = %d is prime number' %x)\n",
        "else:\n",
        "  print('x = %d is not prime number' %x)\n"
      ]
    },
    {
      "cell_type": "code",
      "source": [
        "''' Q4 L2.2'''\n",
        "a,b = 0,100\n",
        "count = 0\n",
        "for x in range(a,b):\n",
        "  if x > 1:\n",
        "    for i in range(2,x):\n",
        "      if x%i == 0:\n",
        "        break\n",
        "    else:\n",
        "      print('x = %d is prime number' %x)\n",
        "      count = count + 1\n",
        "print('')\n",
        "print('Total prime number from %d to %d is %d' %(a,b,count))"
      ],
      "metadata": {
        "id": "UQkDoSM2whEL"
      },
      "execution_count": null,
      "outputs": []
    },
    {
      "cell_type": "code",
      "source": [
        "n = 1\n",
        "R = 0.08206 # atm.L/(K.mol)\n",
        "T = 514\n",
        "P = 51 \n",
        "V = n*R*T/P\n",
        "print(V)"
      ],
      "metadata": {
        "colab": {
          "base_uri": "https://localhost:8080/"
        },
        "id": "lhXD7pGM5SC1",
        "outputId": "8d3aae33-b683-476e-c830-d3bb49404831"
      },
      "execution_count": 19,
      "outputs": [
        {
          "output_type": "stream",
          "name": "stdout",
          "text": [
            "0.8270360784313724\n"
          ]
        }
      ]
    },
    {
      "cell_type": "code",
      "source": [
        "type(V)"
      ],
      "metadata": {
        "colab": {
          "base_uri": "https://localhost:8080/"
        },
        "id": "p7GZz_VL52aD",
        "outputId": "12667d59-653a-4882-ed80-fa456d66d3f4"
      },
      "execution_count": 22,
      "outputs": [
        {
          "output_type": "execute_result",
          "data": {
            "text/plain": [
              "float"
            ]
          },
          "metadata": {},
          "execution_count": 22
        }
      ]
    },
    {
      "cell_type": "code",
      "source": [
        "x = [3,6,5,4]\n",
        "print(x)\n",
        "x.append(60)\n",
        "print(x)\n",
        "x.remove(6)\n",
        "print(x)"
      ],
      "metadata": {
        "colab": {
          "base_uri": "https://localhost:8080/"
        },
        "id": "1OLO0sXy6KnD",
        "outputId": "d9647bfe-7930-41c2-e901-5e35403bd996"
      },
      "execution_count": 26,
      "outputs": [
        {
          "output_type": "stream",
          "name": "stdout",
          "text": [
            "[3, 6, 5, 4]\n",
            "[3, 6, 5, 4, 60]\n",
            "[3, 5, 4, 60]\n"
          ]
        }
      ]
    },
    {
      "cell_type": "code",
      "source": [
        "t = (1,6,4,3)\n",
        "print(t)"
      ],
      "metadata": {
        "colab": {
          "base_uri": "https://localhost:8080/"
        },
        "id": "nGmBOSSS6ud6",
        "outputId": "55c5993f-a2a7-4563-8073-bdd2a3bdb765"
      },
      "execution_count": 27,
      "outputs": [
        {
          "output_type": "stream",
          "name": "stdout",
          "text": [
            "(1, 6, 4, 3)\n"
          ]
        }
      ]
    },
    {
      "cell_type": "code",
      "source": [
        "t1 = (1, 2,'a','b',True)\n",
        "print(t1)"
      ],
      "metadata": {
        "colab": {
          "base_uri": "https://localhost:8080/"
        },
        "id": "p85YqEQS600a",
        "outputId": "fec81216-9197-4032-c0a3-9c23ccbaea9b"
      },
      "execution_count": 29,
      "outputs": [
        {
          "output_type": "stream",
          "name": "stdout",
          "text": [
            "(1, 2, 'a', 'b', True)\n"
          ]
        }
      ]
    },
    {
      "cell_type": "code",
      "source": [
        "for i in t:\n",
        "  print(i)"
      ],
      "metadata": {
        "colab": {
          "base_uri": "https://localhost:8080/"
        },
        "id": "d15vCm317LG0",
        "outputId": "a22c5b0a-3c13-4aa6-f217-a22f96c1496a"
      },
      "execution_count": 30,
      "outputs": [
        {
          "output_type": "stream",
          "name": "stdout",
          "text": [
            "1\n",
            "6\n",
            "4\n",
            "3\n"
          ]
        }
      ]
    }
  ]
}