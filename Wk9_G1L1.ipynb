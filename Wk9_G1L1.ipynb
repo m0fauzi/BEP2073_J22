{
  "nbformat": 4,
  "nbformat_minor": 0,
  "metadata": {
    "colab": {
      "name": "Wk9_G1L1.ipynb",
      "provenance": [],
      "authorship_tag": "ABX9TyP6meCjUTwcGeXQ1O2X/CLp",
      "include_colab_link": true
    },
    "kernelspec": {
      "name": "python3",
      "display_name": "Python 3"
    },
    "language_info": {
      "name": "python"
    }
  },
  "cells": [
    {
      "cell_type": "markdown",
      "metadata": {
        "id": "view-in-github",
        "colab_type": "text"
      },
      "source": [
        "<a href=\"https://colab.research.google.com/github/m0fauzi/BEP2073_J22/blob/main/Wk9_G1L1.ipynb\" target=\"_parent\"><img src=\"https://colab.research.google.com/assets/colab-badge.svg\" alt=\"Open In Colab\"/></a>"
      ]
    },
    {
      "cell_type": "code",
      "execution_count": 1,
      "metadata": {
        "colab": {
          "base_uri": "https://localhost:8080/"
        },
        "id": "uwQ3ITQCxzVH",
        "outputId": "75519e5c-60ac-4def-9dc0-bf332e844343"
      },
      "outputs": [
        {
          "output_type": "execute_result",
          "data": {
            "text/plain": [
              "function"
            ]
          },
          "metadata": {},
          "execution_count": 1
        }
      ],
      "source": [
        "# f(x) = 2x + 3\n",
        "\n",
        "def f(x):\n",
        "  return 2*x + 3\n",
        "\n",
        "type(f)\n"
      ]
    },
    {
      "cell_type": "code",
      "source": [
        "print(f(6))"
      ],
      "metadata": {
        "colab": {
          "base_uri": "https://localhost:8080/"
        },
        "id": "wxMSiuKEyN7Q",
        "outputId": "8eaa52d8-9325-48f5-ec74-98fd890affec"
      },
      "execution_count": 5,
      "outputs": [
        {
          "output_type": "stream",
          "name": "stdout",
          "text": [
            "15\n"
          ]
        }
      ]
    },
    {
      "cell_type": "code",
      "source": [
        "import math\n",
        "\n",
        "def Area(r):\n",
        "  return math.pi*r**2\n",
        "\n",
        "r = 2.5 #in\n",
        "print('Area of circle is %0.3f in2'%Area(r))\n"
      ],
      "metadata": {
        "colab": {
          "base_uri": "https://localhost:8080/"
        },
        "id": "uRrlwiY2yd3d",
        "outputId": "22b08fc7-823b-4686-d31c-7b2c4c105dfb"
      },
      "execution_count": 9,
      "outputs": [
        {
          "output_type": "stream",
          "name": "stdout",
          "text": [
            "Area of circle is 19.635 in2\n"
          ]
        }
      ]
    },
    {
      "cell_type": "code",
      "source": [
        "def printName(firstName, lastName,reverse):\n",
        "  if reverse:\n",
        "    print(lastName+', '+firstName)\n",
        "  else:\n",
        "    print(firstName+', '+lastName)\n",
        "\n",
        "type(printName)    "
      ],
      "metadata": {
        "colab": {
          "base_uri": "https://localhost:8080/"
        },
        "id": "ryZMbvJ2zaCX",
        "outputId": "c9a5cb76-a6d6-4bad-daac-404e0d3dc01e"
      },
      "execution_count": 13,
      "outputs": [
        {
          "output_type": "execute_result",
          "data": {
            "text/plain": [
              "function"
            ]
          },
          "metadata": {},
          "execution_count": 13
        }
      ]
    },
    {
      "cell_type": "code",
      "source": [
        "printName('Mohd','Fauzi',False)"
      ],
      "metadata": {
        "colab": {
          "base_uri": "https://localhost:8080/"
        },
        "id": "UNFqIGXJz6Y3",
        "outputId": "e10af2d5-2e44-41dc-e9f9-60d98f72f3e4"
      },
      "execution_count": 14,
      "outputs": [
        {
          "output_type": "stream",
          "name": "stdout",
          "text": [
            "Mohd, Fauzi\n"
          ]
        }
      ]
    },
    {
      "cell_type": "code",
      "source": [
        "printName('Mohd','Fauzi',True)"
      ],
      "metadata": {
        "colab": {
          "base_uri": "https://localhost:8080/"
        },
        "id": "ilRVWzkp0KCH",
        "outputId": "f944f6ce-79d1-409d-fd6d-1b3c6c18c4f6"
      },
      "execution_count": 15,
      "outputs": [
        {
          "output_type": "stream",
          "name": "stdout",
          "text": [
            "Fauzi, Mohd\n"
          ]
        }
      ]
    },
    {
      "cell_type": "code",
      "source": [
        "printName()"
      ],
      "metadata": {
        "colab": {
          "base_uri": "https://localhost:8080/",
          "height": 167
        },
        "id": "nvOPDY-H0daF",
        "outputId": "b7b23f1a-e32e-4b69-a84d-bd368a4af604"
      },
      "execution_count": 17,
      "outputs": [
        {
          "output_type": "error",
          "ename": "TypeError",
          "evalue": "ignored",
          "traceback": [
            "\u001b[0;31m---------------------------------------------------------------------------\u001b[0m",
            "\u001b[0;31mTypeError\u001b[0m                                 Traceback (most recent call last)",
            "\u001b[0;32m<ipython-input-17-ba52dee856a9>\u001b[0m in \u001b[0;36m<module>\u001b[0;34m()\u001b[0m\n\u001b[0;32m----> 1\u001b[0;31m \u001b[0mprintName\u001b[0m\u001b[0;34m(\u001b[0m\u001b[0;34m)\u001b[0m\u001b[0;34m\u001b[0m\u001b[0;34m\u001b[0m\u001b[0m\n\u001b[0m",
            "\u001b[0;31mTypeError\u001b[0m: printName() missing 3 required positional arguments: 'firstName', 'lastName', and 'reverse'"
          ]
        }
      ]
    },
    {
      "cell_type": "code",
      "source": [
        "def printName(firstName, lastName,reverse = False):\n",
        "  if reverse:\n",
        "    print(lastName+', '+firstName)\n",
        "  else:\n",
        "    print(firstName+', '+lastName)\n",
        "\n",
        "type(printName)    "
      ],
      "metadata": {
        "colab": {
          "base_uri": "https://localhost:8080/"
        },
        "id": "WehAmBV70b1e",
        "outputId": "e2eaf74e-f297-44d2-ecd7-4e970e55a015"
      },
      "execution_count": 18,
      "outputs": [
        {
          "output_type": "execute_result",
          "data": {
            "text/plain": [
              "function"
            ]
          },
          "metadata": {},
          "execution_count": 18
        }
      ]
    },
    {
      "cell_type": "code",
      "source": [
        "printName('Mohd','Fauzi')"
      ],
      "metadata": {
        "colab": {
          "base_uri": "https://localhost:8080/"
        },
        "id": "hsebckRY0tJ1",
        "outputId": "b08e5a86-fe32-4972-ebaa-14136e28d917"
      },
      "execution_count": 19,
      "outputs": [
        {
          "output_type": "stream",
          "name": "stdout",
          "text": [
            "Mohd, Fauzi\n"
          ]
        }
      ]
    },
    {
      "cell_type": "code",
      "source": [
        "def f(x,y):\n",
        "  return 2*x + 3*y**1.5\n",
        "\n",
        "Ans = f(1,2)\n",
        "print(Ans)"
      ],
      "metadata": {
        "colab": {
          "base_uri": "https://localhost:8080/"
        },
        "id": "__vAdcxL088d",
        "outputId": "12e69e59-7dd0-4f74-ab66-794590767d7c"
      },
      "execution_count": 20,
      "outputs": [
        {
          "output_type": "stream",
          "name": "stdout",
          "text": [
            "10.485281374238571\n"
          ]
        }
      ]
    },
    {
      "cell_type": "code",
      "source": [
        "Ans = f(x=1,y=2)\n",
        "print(Ans)"
      ],
      "metadata": {
        "colab": {
          "base_uri": "https://localhost:8080/"
        },
        "id": "AbtAANuC1Mbj",
        "outputId": "51bb36ba-940b-4ac7-b3b2-9a86fc0e5fce"
      },
      "execution_count": 21,
      "outputs": [
        {
          "output_type": "stream",
          "name": "stdout",
          "text": [
            "10.485281374238571\n"
          ]
        }
      ]
    },
    {
      "cell_type": "code",
      "source": [
        "Ans = f(2,1)\n",
        "print(Ans)"
      ],
      "metadata": {
        "colab": {
          "base_uri": "https://localhost:8080/"
        },
        "id": "ktaxFf6R1a78",
        "outputId": "688baa9e-838a-4ffb-c27f-0647483e05b6"
      },
      "execution_count": 23,
      "outputs": [
        {
          "output_type": "stream",
          "name": "stdout",
          "text": [
            "7.0\n"
          ]
        }
      ]
    },
    {
      "cell_type": "code",
      "source": [
        "Ans = f(y=2,x=1)\n",
        "print(Ans)"
      ],
      "metadata": {
        "colab": {
          "base_uri": "https://localhost:8080/"
        },
        "id": "3NUeK9rk1QGc",
        "outputId": "48eddca8-c9fe-40ef-b350-01e401343ca4"
      },
      "execution_count": 22,
      "outputs": [
        {
          "output_type": "stream",
          "name": "stdout",
          "text": [
            "10.485281374238571\n"
          ]
        }
      ]
    },
    {
      "cell_type": "code",
      "source": [
        "import math\n",
        "\n",
        "def Area(r):\n",
        "  '''\n",
        "  PLease input r as in inch t calculate area of circle\n",
        "  '''\n",
        "  return math.pi*r**2\n"
      ],
      "metadata": {
        "id": "1uE9_Elr1rz8"
      },
      "execution_count": 24,
      "outputs": []
    },
    {
      "cell_type": "code",
      "source": [
        "help(Area)"
      ],
      "metadata": {
        "colab": {
          "base_uri": "https://localhost:8080/"
        },
        "id": "SmInypKo15Ml",
        "outputId": "5c388642-e821-4bcd-8ee4-7ca1a62ed692"
      },
      "execution_count": 25,
      "outputs": [
        {
          "output_type": "stream",
          "name": "stdout",
          "text": [
            "Help on function Area in module __main__:\n",
            "\n",
            "Area(r)\n",
            "    PLease input r as in inch t calculate area of circle\n",
            "\n"
          ]
        }
      ]
    },
    {
      "cell_type": "code",
      "source": [
        "help(list)"
      ],
      "metadata": {
        "id": "2-i47t662I8k"
      },
      "execution_count": null,
      "outputs": []
    },
    {
      "cell_type": "code",
      "source": [
        "n = 5\n",
        "Ans = 1\n",
        "\n",
        "for i in range(1,n+1):\n",
        "  Ans = Ans * i\n",
        "\n",
        "print('Factorial %d is %d' %(n, Ans))\n",
        "\n"
      ],
      "metadata": {
        "colab": {
          "base_uri": "https://localhost:8080/"
        },
        "id": "EVZj_bLs2tIj",
        "outputId": "f8c2ca5f-50e6-46b1-cd17-94ca2b5cbef2"
      },
      "execution_count": 39,
      "outputs": [
        {
          "output_type": "stream",
          "name": "stdout",
          "text": [
            "Factorial 5 is 120\n"
          ]
        }
      ]
    },
    {
      "cell_type": "code",
      "source": [
        "def fact(n):\n",
        "  Ans = 1\n",
        "  for i in range(1,n+1):\n",
        "    Ans = Ans * i\n",
        "  print('Factorial %d is %d' %(n, Ans))"
      ],
      "metadata": {
        "id": "OZMi2nyc3N78"
      },
      "execution_count": 36,
      "outputs": []
    },
    {
      "cell_type": "code",
      "source": [
        "fact(5)"
      ],
      "metadata": {
        "colab": {
          "base_uri": "https://localhost:8080/"
        },
        "id": "LAVn7mi03Z7L",
        "outputId": "1cfe9a2d-7554-426c-922d-9d353c7cd46c"
      },
      "execution_count": 37,
      "outputs": [
        {
          "output_type": "stream",
          "name": "stdout",
          "text": [
            "Factorial 5 is 120\n"
          ]
        }
      ]
    },
    {
      "cell_type": "code",
      "source": [
        "fact(10)"
      ],
      "metadata": {
        "colab": {
          "base_uri": "https://localhost:8080/"
        },
        "id": "rBTvUQbd3ieb",
        "outputId": "00dd29a3-b2b2-4679-f5b0-87297034c871"
      },
      "execution_count": 38,
      "outputs": [
        {
          "output_type": "stream",
          "name": "stdout",
          "text": [
            "Factorial 10 is 3628800\n"
          ]
        }
      ]
    },
    {
      "cell_type": "code",
      "source": [
        "def factR(n):\n",
        "  if n == 1:\n",
        "    return n\n",
        "  else:\n",
        "    return n*factR(n-1)"
      ],
      "metadata": {
        "id": "EpbLThOt37W2"
      },
      "execution_count": 40,
      "outputs": []
    },
    {
      "cell_type": "code",
      "source": [
        "n = 5\n",
        "print('Factorial %d is %d' %(n, factR(n)))"
      ],
      "metadata": {
        "colab": {
          "base_uri": "https://localhost:8080/"
        },
        "id": "snLqNrY34i77",
        "outputId": "853ec61b-4249-444d-acad-6afbca3f3cbf"
      },
      "execution_count": 41,
      "outputs": [
        {
          "output_type": "stream",
          "name": "stdout",
          "text": [
            "Factorial 5 is 120\n"
          ]
        }
      ]
    },
    {
      "cell_type": "code",
      "source": [
        "n = 10\n",
        "print('Factorial %d is %d' %(n, factR(n)))"
      ],
      "metadata": {
        "colab": {
          "base_uri": "https://localhost:8080/"
        },
        "id": "NGp3Htkr4sEK",
        "outputId": "31325f93-fb37-44da-f618-3c6fd3e6846c"
      },
      "execution_count": 42,
      "outputs": [
        {
          "output_type": "stream",
          "name": "stdout",
          "text": [
            "Factorial 10 is 3628800\n"
          ]
        }
      ]
    },
    {
      "cell_type": "code",
      "source": [
        "def CircleArea(r):\n",
        "  pi = 22/7\n",
        "  return pi*r**2\n"
      ],
      "metadata": {
        "id": "sd0HX1-14-hq"
      },
      "execution_count": 43,
      "outputs": []
    },
    {
      "cell_type": "code",
      "source": [
        "print(CircleArea(3))"
      ],
      "metadata": {
        "colab": {
          "base_uri": "https://localhost:8080/"
        },
        "id": "Lzm1nM315Kuj",
        "outputId": "02b6efc4-f090-4085-f998-133c37897e11"
      },
      "execution_count": 44,
      "outputs": [
        {
          "output_type": "stream",
          "name": "stdout",
          "text": [
            "28.285714285714285\n"
          ]
        }
      ]
    },
    {
      "cell_type": "code",
      "source": [
        "def CircleArea(r):\n",
        "  pie = 22/7\n",
        "  return pie*r**2\n",
        "\n",
        "def Volume(r,h):\n",
        "  pie = 22/7\n",
        "  return 2*pie*r*h\n",
        "\n",
        "\n"
      ],
      "metadata": {
        "id": "_ChLHgtp5Rbb"
      },
      "execution_count": 47,
      "outputs": []
    },
    {
      "cell_type": "code",
      "source": [
        "def CircleArea(r):\n",
        "  pie = 22/7\n",
        "  return pie*r**2\n",
        "\n",
        "def Volume(r,h):\n",
        "  return 2*pie*r*h"
      ],
      "metadata": {
        "id": "9FXN5oRI5orr"
      },
      "execution_count": 49,
      "outputs": []
    },
    {
      "cell_type": "code",
      "source": [
        "Volume(4,5)"
      ],
      "metadata": {
        "colab": {
          "base_uri": "https://localhost:8080/",
          "height": 253
        },
        "id": "ZBIxBo_f5yHl",
        "outputId": "2aa83197-ff58-45ef-fd01-d5e554356b7d"
      },
      "execution_count": 51,
      "outputs": [
        {
          "output_type": "error",
          "ename": "NameError",
          "evalue": "ignored",
          "traceback": [
            "\u001b[0;31m---------------------------------------------------------------------------\u001b[0m",
            "\u001b[0;31mNameError\u001b[0m                                 Traceback (most recent call last)",
            "\u001b[0;32m<ipython-input-51-3a35c9ebc906>\u001b[0m in \u001b[0;36m<module>\u001b[0;34m()\u001b[0m\n\u001b[0;32m----> 1\u001b[0;31m \u001b[0mVolume\u001b[0m\u001b[0;34m(\u001b[0m\u001b[0;36m4\u001b[0m\u001b[0;34m,\u001b[0m\u001b[0;36m5\u001b[0m\u001b[0;34m)\u001b[0m\u001b[0;34m\u001b[0m\u001b[0;34m\u001b[0m\u001b[0m\n\u001b[0m",
            "\u001b[0;32m<ipython-input-49-0c78c8ac813b>\u001b[0m in \u001b[0;36mVolume\u001b[0;34m(r, h)\u001b[0m\n\u001b[1;32m      4\u001b[0m \u001b[0;34m\u001b[0m\u001b[0m\n\u001b[1;32m      5\u001b[0m \u001b[0;32mdef\u001b[0m \u001b[0mVolume\u001b[0m\u001b[0;34m(\u001b[0m\u001b[0mr\u001b[0m\u001b[0;34m,\u001b[0m\u001b[0mh\u001b[0m\u001b[0;34m)\u001b[0m\u001b[0;34m:\u001b[0m\u001b[0;34m\u001b[0m\u001b[0;34m\u001b[0m\u001b[0m\n\u001b[0;32m----> 6\u001b[0;31m   \u001b[0;32mreturn\u001b[0m \u001b[0;36m2\u001b[0m\u001b[0;34m*\u001b[0m\u001b[0mpie\u001b[0m\u001b[0;34m*\u001b[0m\u001b[0mr\u001b[0m\u001b[0;34m*\u001b[0m\u001b[0mh\u001b[0m\u001b[0;34m\u001b[0m\u001b[0;34m\u001b[0m\u001b[0m\n\u001b[0m",
            "\u001b[0;31mNameError\u001b[0m: name 'pie' is not defined"
          ]
        }
      ]
    },
    {
      "cell_type": "code",
      "source": [
        "global pie\n",
        "pie = 22/7\n",
        "\n",
        "def CircleArea(r):\n",
        "  return pie*r**2\n",
        "\n",
        "def Volume(r,h):\n",
        "  return 2*pie*r*h"
      ],
      "metadata": {
        "id": "VDmEWMMU58PS"
      },
      "execution_count": 58,
      "outputs": []
    },
    {
      "cell_type": "code",
      "source": [
        "type(pie)"
      ],
      "metadata": {
        "colab": {
          "base_uri": "https://localhost:8080/"
        },
        "id": "ADDAPirC6B6r",
        "outputId": "75be991e-96d7-4a3e-e693-45e9c22b5f62"
      },
      "execution_count": 59,
      "outputs": [
        {
          "output_type": "execute_result",
          "data": {
            "text/plain": [
              "float"
            ]
          },
          "metadata": {},
          "execution_count": 59
        }
      ]
    },
    {
      "cell_type": "code",
      "source": [
        "Volume(3,4)"
      ],
      "metadata": {
        "colab": {
          "base_uri": "https://localhost:8080/"
        },
        "id": "BHYwPbbI6gQz",
        "outputId": "6a642c15-e553-4c3e-ec0d-bf7c36563d7b"
      },
      "execution_count": 60,
      "outputs": [
        {
          "output_type": "execute_result",
          "data": {
            "text/plain": [
              "75.42857142857143"
            ]
          },
          "metadata": {},
          "execution_count": 60
        }
      ]
    }
  ]
}