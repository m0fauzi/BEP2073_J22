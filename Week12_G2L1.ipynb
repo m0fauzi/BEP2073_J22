{
  "nbformat": 4,
  "nbformat_minor": 0,
  "metadata": {
    "colab": {
      "name": "Week12_G2L1.ipynb",
      "provenance": [],
      "authorship_tag": "ABX9TyP7CcFG4oixl/nFhEjSpmOq",
      "include_colab_link": true
    },
    "kernelspec": {
      "name": "python3",
      "display_name": "Python 3"
    },
    "language_info": {
      "name": "python"
    }
  },
  "cells": [
    {
      "cell_type": "markdown",
      "metadata": {
        "id": "view-in-github",
        "colab_type": "text"
      },
      "source": [
        "<a href=\"https://colab.research.google.com/github/m0fauzi/BEP2073_J22/blob/main/Week12_G2L1.ipynb\" target=\"_parent\"><img src=\"https://colab.research.google.com/assets/colab-badge.svg\" alt=\"Open In Colab\"/></a>"
      ]
    },
    {
      "cell_type": "code",
      "execution_count": 1,
      "metadata": {
        "colab": {
          "base_uri": "https://localhost:8080/"
        },
        "id": "pP1EBDs5Eeme",
        "outputId": "020f0ac4-2e56-4219-a413-354eabad38f6"
      },
      "outputs": [
        {
          "output_type": "stream",
          "name": "stdout",
          "text": [
            "[ 1.  5. -3.]\n"
          ]
        }
      ],
      "source": [
        "import numpy as np\n",
        "\n",
        "A = np.array([[3,-2,1],\n",
        "              [2,6,-4],\n",
        "              [-1,-2, 5]])\n",
        "\n",
        "B = np.array([-10,44,-26])\n",
        "x = np.linalg.solve(A,B)\n",
        "\n",
        "print(x)"
      ]
    },
    {
      "cell_type": "code",
      "source": [
        "for i in x:\n",
        "  print(i)"
      ],
      "metadata": {
        "colab": {
          "base_uri": "https://localhost:8080/"
        },
        "id": "KkYEz9bQE5_W",
        "outputId": "217fcbab-1476-4b91-e6d8-121374e1118b"
      },
      "execution_count": 2,
      "outputs": [
        {
          "output_type": "stream",
          "name": "stdout",
          "text": [
            "1.0\n",
            "5.0\n",
            "-2.9999999999999996\n"
          ]
        }
      ]
    },
    {
      "cell_type": "code",
      "source": [
        "import pandas as pd\n",
        "\n",
        "Data = pd.read_csv('dataT2a.csv')\n",
        "print(Data)"
      ],
      "metadata": {
        "colab": {
          "base_uri": "https://localhost:8080/"
        },
        "id": "od3DIft_Jy-y",
        "outputId": "2346d217-3785-4cc0-e2d8-7d56005cb0aa"
      },
      "execution_count": 7,
      "outputs": [
        {
          "output_type": "stream",
          "name": "stdout",
          "text": [
            "   Temp    Press\n",
            "0   -40   6900.0\n",
            "1     0   8100.0\n",
            "2    40   9300.0\n",
            "3    80  10500.0\n",
            "4   120  11700.0\n",
            "5   160  12900.0\n"
          ]
        }
      ]
    },
    {
      "cell_type": "code",
      "source": [
        "x = Data.Temp\n",
        "y = Data.Press\n",
        "\n",
        "#assume quadratic prediction\n",
        "def f(x,a1,a2,a3):\n",
        "  P = a1*x**2 + a2*x + a3\n",
        "  return P\n",
        "\n",
        "import scipy.optimize as so \n",
        "\n",
        "a,c = so.curve_fit(f,x,y)\n",
        "\n",
        "a1,a2,a3 = a\n",
        "\n",
        "print(a)"
      ],
      "metadata": {
        "colab": {
          "base_uri": "https://localhost:8080/"
        },
        "id": "HI3sMEvKKKnK",
        "outputId": "3360aa3c-f4c2-41e0-e290-0fac6d12407d"
      },
      "execution_count": 11,
      "outputs": [
        {
          "output_type": "stream",
          "name": "stdout",
          "text": [
            "[-2.18114415e-12  3.00000000e+01  8.10000000e+03]\n"
          ]
        },
        {
          "output_type": "stream",
          "name": "stderr",
          "text": [
            "/usr/local/lib/python3.7/dist-packages/scipy/optimize/minpack.py:808: OptimizeWarning: Covariance of the parameters could not be estimated\n",
            "  category=OptimizeWarning)\n"
          ]
        }
      ]
    },
    {
      "cell_type": "code",
      "source": [
        "# at T = 120 C\n",
        "Ppred = f(120,a1,a2,a3)\n",
        "Pexp = Data.Press[4]\n",
        "\n",
        "error = Pexp - Ppred\n",
        "\n",
        "print(error)"
      ],
      "metadata": {
        "colab": {
          "base_uri": "https://localhost:8080/"
        },
        "id": "Hmnc0XleLuGa",
        "outputId": "becf32dd-2d02-4bc8-c325-4f5bb8a77ec2"
      },
      "execution_count": 12,
      "outputs": [
        {
          "output_type": "stream",
          "name": "stdout",
          "text": [
            "-2.3264874471351504e-09\n"
          ]
        }
      ]
    }
  ]
}