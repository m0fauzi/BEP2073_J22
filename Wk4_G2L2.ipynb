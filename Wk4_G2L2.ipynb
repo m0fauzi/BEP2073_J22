{
  "nbformat": 4,
  "nbformat_minor": 0,
  "metadata": {
    "colab": {
      "name": "Wk4_G2L2.ipynb",
      "provenance": [],
      "authorship_tag": "ABX9TyNaUim40hM7WfVNO2iq/48X",
      "include_colab_link": true
    },
    "kernelspec": {
      "name": "python3",
      "display_name": "Python 3"
    },
    "language_info": {
      "name": "python"
    }
  },
  "cells": [
    {
      "cell_type": "markdown",
      "metadata": {
        "id": "view-in-github",
        "colab_type": "text"
      },
      "source": [
        "<a href=\"https://colab.research.google.com/github/m0fauzi/BEP2073_J22/blob/main/Wk4_G2L2.ipynb\" target=\"_parent\"><img src=\"https://colab.research.google.com/assets/colab-badge.svg\" alt=\"Open In Colab\"/></a>"
      ]
    },
    {
      "cell_type": "code",
      "execution_count": 2,
      "metadata": {
        "colab": {
          "base_uri": "https://localhost:8080/"
        },
        "id": "H6WqEPsjsoLf",
        "outputId": "18d0d4cf-9e59-49b1-cd3b-1697217a7001"
      },
      "outputs": [
        {
          "output_type": "stream",
          "name": "stdout",
          "text": [
            "a = 20\n",
            "b = 100\n",
            "b is greater than a\n"
          ]
        }
      ],
      "source": [
        "a = int(input('a = '))\n",
        "b = int(input('b = '))\n",
        "if b > a:\n",
        "  print('b is greater than a')\n",
        "else:\n",
        "  print('a is greater than b')\n"
      ]
    },
    {
      "cell_type": "code",
      "source": [
        "for i in range(3):\n",
        "  a = int(input('a = '))\n",
        "  b = int(input('b = '))\n",
        "  if b > a:\n",
        "    print('b is greater than a')\n",
        "  elif b==a:\n",
        "    print('a is equal to b')\n",
        "  else:\n",
        "    print('a is greater than b')"
      ],
      "metadata": {
        "colab": {
          "base_uri": "https://localhost:8080/"
        },
        "id": "qVpj663Curuk",
        "outputId": "cefa8318-b575-416d-c5dc-e1d320a32bf9"
      },
      "execution_count": 4,
      "outputs": [
        {
          "output_type": "stream",
          "name": "stdout",
          "text": [
            "a = 20\n",
            "b = 90\n",
            "b is greater than a\n",
            "a = 80\n",
            "b = 80\n",
            "a is equal to b\n",
            "a = 90\n",
            "b = 199\n",
            "b is greater than a\n"
          ]
        }
      ]
    },
    {
      "cell_type": "code",
      "source": [
        "for i in range(3):\n",
        "  a = int(input('a = '))\n",
        "  b = int(input('b = '))\n",
        "  if b > a:\n",
        "    print('b is greater than a')\n",
        "  else:\n",
        "    if b == a:\n",
        "      print('a is equal to b')\n",
        "    else:\n",
        "      print('a is greater than b')"
      ],
      "metadata": {
        "colab": {
          "base_uri": "https://localhost:8080/"
        },
        "id": "J4NvFtmdvxP1",
        "outputId": "7c4556fb-8166-407c-fcfc-28b64c3698ff"
      },
      "execution_count": 5,
      "outputs": [
        {
          "output_type": "stream",
          "name": "stdout",
          "text": [
            "a = 10\n",
            "b = 200\n",
            "b is greater than a\n",
            "a = 200\n",
            "b = 50\n",
            "a is greater than b\n",
            "a = 80\n",
            "b = 80\n",
            "a is equal to b\n"
          ]
        }
      ]
    },
    {
      "cell_type": "code",
      "source": [
        "X = [5,3,7,8,9,10]\n",
        "print(X)\n",
        "print(X[0])\n",
        "print(X[1])\n",
        "print(X[2])\n",
        "print(X[3])\n",
        "print(X[4])\n",
        "print(X[5])\n"
      ],
      "metadata": {
        "colab": {
          "base_uri": "https://localhost:8080/"
        },
        "id": "a1tLIVInwxRJ",
        "outputId": "e9cf386d-b008-4eb3-8357-f01a08e7e714"
      },
      "execution_count": 8,
      "outputs": [
        {
          "output_type": "stream",
          "name": "stdout",
          "text": [
            "[5, 3, 7, 8, 9, 10]\n",
            "5\n",
            "3\n",
            "7\n",
            "8\n",
            "9\n",
            "10\n"
          ]
        }
      ]
    },
    {
      "cell_type": "code",
      "source": [
        "X = [5,3,7,8,9,10]\n",
        "print(X)\n",
        "for i in range(6):\n",
        "  print(X[i])\n"
      ],
      "metadata": {
        "colab": {
          "base_uri": "https://localhost:8080/"
        },
        "id": "txMDWv8WxZba",
        "outputId": "1cdc9d67-82bc-42b9-a64e-48f0905d7afd"
      },
      "execution_count": 11,
      "outputs": [
        {
          "output_type": "stream",
          "name": "stdout",
          "text": [
            "[5, 3, 7, 8, 9, 10]\n",
            "5\n",
            "3\n",
            "7\n",
            "8\n",
            "9\n",
            "10\n"
          ]
        }
      ]
    },
    {
      "cell_type": "code",
      "source": [
        "for x in \"banana\":\n",
        "  print(x)"
      ],
      "metadata": {
        "colab": {
          "base_uri": "https://localhost:8080/"
        },
        "id": "rtP_ib6ky_lp",
        "outputId": "2b6fee3e-2e10-489d-b344-b241971bcfb5"
      },
      "execution_count": 12,
      "outputs": [
        {
          "output_type": "stream",
          "name": "stdout",
          "text": [
            "b\n",
            "a\n",
            "n\n",
            "a\n",
            "n\n",
            "a\n"
          ]
        }
      ]
    },
    {
      "cell_type": "code",
      "source": [
        "txt = \"banana\"\n",
        "for x in range(3,6):\n",
        "  print(txt[x])"
      ],
      "metadata": {
        "colab": {
          "base_uri": "https://localhost:8080/"
        },
        "id": "0ewsiPl5zNKw",
        "outputId": "b016dd4d-9172-4f7c-e686-6cc4a403f1c5"
      },
      "execution_count": 18,
      "outputs": [
        {
          "output_type": "stream",
          "name": "stdout",
          "text": [
            "a\n",
            "n\n",
            "a\n"
          ]
        }
      ]
    },
    {
      "cell_type": "code",
      "source": [
        "count = 0\n",
        "for x in range(3):\n",
        "  count = count + 2\n",
        "print(count)"
      ],
      "metadata": {
        "colab": {
          "base_uri": "https://localhost:8080/"
        },
        "id": "VhwXmyxW0RFA",
        "outputId": "503cfafc-c037-4eaa-da20-02b4789a068e"
      },
      "execution_count": 22,
      "outputs": [
        {
          "output_type": "stream",
          "name": "stdout",
          "text": [
            "2\n",
            "4\n",
            "6\n"
          ]
        }
      ]
    },
    {
      "cell_type": "code",
      "source": [
        "X = [0,1,2,3,4]\n",
        "sum = 0\n",
        "for i in range(len(X)):\n",
        "  if X[i]%2 == 0:\n",
        "    sum = sum + X[i]\n",
        "print(sum)"
      ],
      "metadata": {
        "colab": {
          "base_uri": "https://localhost:8080/"
        },
        "id": "yj_V4bXo3jig",
        "outputId": "b9a1930c-6cee-4264-fb14-63545592f181"
      },
      "execution_count": 33,
      "outputs": [
        {
          "output_type": "stream",
          "name": "stdout",
          "text": [
            "6\n"
          ]
        }
      ]
    },
    {
      "cell_type": "code",
      "source": [
        "X = [0,1,2,3,4]\n",
        "\n",
        "sum = 0\n",
        "for i in X:\n",
        "  if i%2 == 0:\n",
        "    sum = sum + i\n",
        "print(sum)"
      ],
      "metadata": {
        "colab": {
          "base_uri": "https://localhost:8080/"
        },
        "id": "G3XPH2xu5WkO",
        "outputId": "d09feffd-7aa0-4f70-d9f5-44f8af1cd6da"
      },
      "execution_count": 34,
      "outputs": [
        {
          "output_type": "stream",
          "name": "stdout",
          "text": [
            "6\n"
          ]
        }
      ]
    },
    {
      "cell_type": "code",
      "source": [
        "a,b,c = 0,10,2\n",
        "count = 0\n",
        "for i in range(a,b+1):\n",
        "  if i%c == 0:\n",
        "    count += 1\n",
        "print(count)    \n"
      ],
      "metadata": {
        "colab": {
          "base_uri": "https://localhost:8080/"
        },
        "id": "gTB307yi68hX",
        "outputId": "ad3057c2-5aa0-400a-eb78-05cd7632779f"
      },
      "execution_count": 41,
      "outputs": [
        {
          "output_type": "stream",
          "name": "stdout",
          "text": [
            "6\n"
          ]
        }
      ]
    }
  ]
}