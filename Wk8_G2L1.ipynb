{
  "nbformat": 4,
  "nbformat_minor": 0,
  "metadata": {
    "colab": {
      "name": "Wk8_G2L1.ipynb",
      "provenance": [],
      "authorship_tag": "ABX9TyO/0iTm1W9BB7NrPEv1jiAJ",
      "include_colab_link": true
    },
    "kernelspec": {
      "name": "python3",
      "display_name": "Python 3"
    },
    "language_info": {
      "name": "python"
    }
  },
  "cells": [
    {
      "cell_type": "markdown",
      "metadata": {
        "id": "view-in-github",
        "colab_type": "text"
      },
      "source": [
        "<a href=\"https://colab.research.google.com/github/m0fauzi/BEP2073_J22/blob/main/Wk8_G2L1.ipynb\" target=\"_parent\"><img src=\"https://colab.research.google.com/assets/colab-badge.svg\" alt=\"Open In Colab\"/></a>"
      ]
    },
    {
      "cell_type": "code",
      "execution_count": 10,
      "metadata": {
        "colab": {
          "base_uri": "https://localhost:8080/"
        },
        "id": "hRxWk4oVuq8c",
        "outputId": "8989b377-79df-453c-ccc7-a4ef24428f35"
      },
      "outputs": [
        {
          "output_type": "stream",
          "name": "stdout",
          "text": [
            "T = 8\n",
            "DO = 11.843\n"
          ]
        }
      ],
      "source": [
        "T = [0,8,16,24,32,40]\n",
        "DO = [14.621,11.843,9.87,8.47,7.305,6.413]\n",
        "\n",
        "T_usr = int(input('T = '))\n",
        "\n",
        "idx = T.index(T_usr)\n",
        "DO_sel = DO[idx]\n",
        "print('DO =',DO_sel)"
      ]
    },
    {
      "cell_type": "code",
      "source": [
        "import math\n",
        "x = 3\n",
        "y = math.exp(x)\n",
        "print(y)"
      ],
      "metadata": {
        "colab": {
          "base_uri": "https://localhost:8080/"
        },
        "id": "-U4QMFKXw69p",
        "outputId": "54108580-835a-470d-c904-03af4a4e4e3d"
      },
      "execution_count": 11,
      "outputs": [
        {
          "output_type": "stream",
          "name": "stdout",
          "text": [
            "20.085536923187668\n"
          ]
        }
      ]
    },
    {
      "cell_type": "code",
      "source": [
        "import math as m\n",
        "x = 3\n",
        "y = m.exp(x)\n",
        "print(y)"
      ],
      "metadata": {
        "colab": {
          "base_uri": "https://localhost:8080/"
        },
        "id": "_BvgEYIAxDuB",
        "outputId": "d470a808-aafb-4720-e042-dbab3a6b7020"
      },
      "execution_count": 12,
      "outputs": [
        {
          "output_type": "stream",
          "name": "stdout",
          "text": [
            "20.085536923187668\n"
          ]
        }
      ]
    },
    {
      "cell_type": "code",
      "source": [
        "from math import exp\n",
        "x = 3\n",
        "y = exp(x)\n",
        "print(y)"
      ],
      "metadata": {
        "colab": {
          "base_uri": "https://localhost:8080/"
        },
        "id": "UpmliYgVxIw5",
        "outputId": "a218810c-0982-4d16-e3c6-698c0d224dee"
      },
      "execution_count": 13,
      "outputs": [
        {
          "output_type": "stream",
          "name": "stdout",
          "text": [
            "20.085536923187668\n"
          ]
        }
      ]
    },
    {
      "cell_type": "code",
      "source": [
        "from math import exp as e\n",
        "x = 3\n",
        "y = e(x)\n",
        "print(y)"
      ],
      "metadata": {
        "colab": {
          "base_uri": "https://localhost:8080/"
        },
        "id": "ZbodLFtSxRnI",
        "outputId": "d9d9614b-b345-4f7b-9728-3b02f59b830d"
      },
      "execution_count": 14,
      "outputs": [
        {
          "output_type": "stream",
          "name": "stdout",
          "text": [
            "20.085536923187668\n"
          ]
        }
      ]
    },
    {
      "cell_type": "code",
      "source": [
        "from  math import floor, sin\n",
        "x = 3.5\n",
        "y = floor(x)\n",
        "print('y =',y)\n",
        "\n",
        "y2 = sin(x)\n",
        "print('y2 =',y2)\n"
      ],
      "metadata": {
        "colab": {
          "base_uri": "https://localhost:8080/"
        },
        "id": "6VbXVL6uypcg",
        "outputId": "234ef938-5732-4ce4-d74c-31673deff50d"
      },
      "execution_count": 17,
      "outputs": [
        {
          "output_type": "stream",
          "name": "stdout",
          "text": [
            "y = 3\n",
            "y2 = -0.35078322768961984\n"
          ]
        }
      ]
    },
    {
      "cell_type": "code",
      "source": [
        "#Ex1: Generate random number in range of 2 to 5\n",
        "\n",
        "import random as rdm\n",
        "\n",
        "for i in range(10):\n",
        "  r = rdm.randrange(2,6)\n",
        "  print(r)\n",
        "\n"
      ],
      "metadata": {
        "colab": {
          "base_uri": "https://localhost:8080/"
        },
        "id": "w8k3-LyH30Ls",
        "outputId": "ed454d74-4662-459b-80e8-5f46467127d6"
      },
      "execution_count": 23,
      "outputs": [
        {
          "output_type": "stream",
          "name": "stdout",
          "text": [
            "2\n",
            "4\n",
            "3\n",
            "2\n",
            "4\n",
            "2\n",
            "4\n",
            "5\n",
            "2\n",
            "4\n"
          ]
        }
      ]
    },
    {
      "cell_type": "code",
      "source": [
        "import math\n",
        "\n",
        "x = 3\n",
        "print(math.cos(x)**2)"
      ],
      "metadata": {
        "colab": {
          "base_uri": "https://localhost:8080/"
        },
        "id": "Ay8kSVoU40p3",
        "outputId": "1e03a89a-8521-445e-8710-8dd472b421a9"
      },
      "execution_count": 25,
      "outputs": [
        {
          "output_type": "stream",
          "name": "stdout",
          "text": [
            "0.9800851433251829\n"
          ]
        }
      ]
    },
    {
      "cell_type": "code",
      "source": [
        "import numpy as np\n",
        "\n",
        "x = np.linspace(0,10,11)\n",
        "print(x)"
      ],
      "metadata": {
        "colab": {
          "base_uri": "https://localhost:8080/"
        },
        "id": "F3lE4QCR5x_h",
        "outputId": "a9d2d764-524c-4575-e265-961bf7fbaf32"
      },
      "execution_count": 28,
      "outputs": [
        {
          "output_type": "stream",
          "name": "stdout",
          "text": [
            "[ 0.  1.  2.  3.  4.  5.  6.  7.  8.  9. 10.]\n"
          ]
        }
      ]
    },
    {
      "cell_type": "code",
      "source": [
        "import numpy as np\n",
        "y = np.array([1,2,3,4])\n",
        "print(y)\n",
        "print(type(y))\n",
        "\n",
        "y1 = [1,2,3,4]\n",
        "print(y1)\n",
        "print(type(y1))"
      ],
      "metadata": {
        "colab": {
          "base_uri": "https://localhost:8080/"
        },
        "id": "6u5wn0mQ6EZO",
        "outputId": "dc167dbe-924b-403e-ed28-15245646c1c2"
      },
      "execution_count": 32,
      "outputs": [
        {
          "output_type": "stream",
          "name": "stdout",
          "text": [
            "[1 2 3 4]\n",
            "<class 'numpy.ndarray'>\n",
            "[1, 2, 3, 4]\n",
            "<class 'list'>\n"
          ]
        }
      ]
    },
    {
      "cell_type": "code",
      "source": [
        "import numpy as np\n",
        "y = np.array([[1,2,3,4],\n",
        "              [4,8,7,6]])\n",
        "print(y)"
      ],
      "metadata": {
        "colab": {
          "base_uri": "https://localhost:8080/"
        },
        "id": "DHEvXfj36ij-",
        "outputId": "f345de07-faf2-4c5a-b22d-04a73f5f67af"
      },
      "execution_count": 34,
      "outputs": [
        {
          "output_type": "stream",
          "name": "stdout",
          "text": [
            "[[1 2 3 4]\n",
            " [4 8 7 6]]\n"
          ]
        }
      ]
    },
    {
      "cell_type": "code",
      "source": [
        "import numpy as np\n",
        "y = np.array([[1,2,3,4],\n",
        "              [4,8,7,6]])\n",
        "print(y[1,3])\n",
        "print(y[1,:])"
      ],
      "metadata": {
        "colab": {
          "base_uri": "https://localhost:8080/"
        },
        "id": "06H9Io9W64qX",
        "outputId": "7f03baee-6805-4ee5-cf36-147d13d937bf"
      },
      "execution_count": 38,
      "outputs": [
        {
          "output_type": "stream",
          "name": "stdout",
          "text": [
            "6\n",
            "[4 8 7 6]\n"
          ]
        }
      ]
    },
    {
      "cell_type": "code",
      "source": [
        "a = np.array([[1, 2], [3, 5]])\n",
        "b = np.array([1, 2])\n",
        "x = np.linalg.solve(a, b)\n",
        "print('x1 =',round(x[0]))\n",
        "print('x2 =',round(x[1]))"
      ],
      "metadata": {
        "colab": {
          "base_uri": "https://localhost:8080/"
        },
        "id": "X1dRl_q57rUw",
        "outputId": "af44457c-1b03-42a7-fa94-d94281fcdeee"
      },
      "execution_count": 42,
      "outputs": [
        {
          "output_type": "stream",
          "name": "stdout",
          "text": [
            "x1 = -1\n",
            "x2 = 1\n"
          ]
        }
      ]
    },
    {
      "cell_type": "code",
      "source": [
        "import numpy as np\n",
        "import matplotlib.pyplot as plt\n",
        "\n",
        "x = np.linspace(0, 10, 20)\n",
        "y = np.power(x,2)\n",
        "plt.plot(x,y,'ks')\n",
        "plt.show()\n"
      ],
      "metadata": {
        "colab": {
          "base_uri": "https://localhost:8080/",
          "height": 265
        },
        "id": "yFsFnUgY8PKe",
        "outputId": "18e51f9f-591d-42ec-a5f7-e8c6d66004d7"
      },
      "execution_count": 44,
      "outputs": [
        {
          "output_type": "display_data",
          "data": {
            "image/png": "[encoded data removed]",
            "text/plain": [
              "<Figure size 432x288 with 1 Axes>"
            ]
          },
          "metadata": {
            "needs_background": "light"
          }
        }
      ]
    },
    {
      "cell_type": "code",
      "source": [
        "import numpy as np\n",
        "import matplotlib.pyplot as plt\n",
        "\n",
        "x = np.linspace(0, 10, 20)\n",
        "y = np.power(x,2)\n",
        "plt.plot(x,y,'ks',label='Trend 1')\n",
        "plt.xlabel('x')\n",
        "plt.ylabel('y')\n",
        "plt.legend()\n",
        "plt.show()"
      ],
      "metadata": {
        "colab": {
          "base_uri": "https://localhost:8080/",
          "height": 279
        },
        "id": "YWeBUJbc85tX",
        "outputId": "eebae622-d02f-4b5a-c5dd-d811e0aef0e9"
      },
      "execution_count": 50,
      "outputs": [
        {
          "output_type": "display_data",
          "data": {
            "image/png": "[encoded data removed]",
            "text/plain": [
              "<Figure size 432x288 with 1 Axes>"
            ]
          },
          "metadata": {
            "needs_background": "light"
          }
        }
      ]
    },
    {
      "cell_type": "code",
      "source": [
        "import numpy as np\n",
        "import matplotlib.pyplot as plt\n",
        "\n",
        "x = np.linspace(0, 10, 20)\n",
        "y = np.power(x,2)\n",
        "y2 = np.power(x,3)\n",
        "plt.plot(x,y,'ks',label='Trend 1')\n",
        "plt.plot(x,y2,'rs',label='Trend 2')\n",
        "plt.xlabel('x')\n",
        "plt.ylabel('y')\n",
        "plt.legend()\n",
        "plt.show()"
      ],
      "metadata": {
        "colab": {
          "base_uri": "https://localhost:8080/",
          "height": 279
        },
        "id": "1UxlCfF79YIW",
        "outputId": "9a56b94b-7518-47fc-c8fc-b86d5563ab9f"
      },
      "execution_count": 52,
      "outputs": [
        {
          "output_type": "display_data",
          "data": {
            "image/png": "[encoded data removed]",
            "text/plain": [
              "<Figure size 432x288 with 1 Axes>"
            ]
          },
          "metadata": {
            "needs_background": "light"
          }
        }
      ]
    },
    {
      "cell_type": "code",
      "source": [
        "from matplotlib.pyplot import plot, show, xlabel, ylabel\n",
        "\n",
        "T = [0,8,16,24,32,40]\n",
        "DO = [14.621,11.843,9.87,8.47,7.305,6.413]\n",
        "\n",
        "T_usr = int(input('T = '))\n",
        "\n",
        "idx = T.index(T_usr)\n",
        "DO_sel = DO[idx]\n",
        "print('DO =',DO_sel)\n",
        "\n",
        "plot(T,DO,'r*')\n",
        "plot(T_usr,DO_sel,'ks')\n",
        "xlabel('T')\n",
        "ylabel('DO')\n",
        "show()\n",
        "\n"
      ],
      "metadata": {
        "colab": {
          "base_uri": "https://localhost:8080/",
          "height": 314
        },
        "id": "1rBIGGO195Iv",
        "outputId": "37982fca-75e9-442c-d2f7-5c018c8d2344"
      },
      "execution_count": 58,
      "outputs": [
        {
          "output_type": "stream",
          "name": "stdout",
          "text": [
            "T = 8\n",
            "DO = 11.843\n"
          ]
        },
        {
          "output_type": "display_data",
          "data": {
            "image/png": "[encoded data removed]",
            "text/plain": [
              "<Figure size 432x288 with 1 Axes>"
            ]
          },
          "metadata": {
            "needs_background": "light"
          }
        }
      ]
    }
  ]
}