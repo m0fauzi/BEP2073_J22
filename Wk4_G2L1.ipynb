{
  "nbformat": 4,
  "nbformat_minor": 0,
  "metadata": {
    "colab": {
      "name": "Wk4_G2L1.ipynb",
      "provenance": [],
      "authorship_tag": "ABX9TyOoYar3Bw+4JTpZ5yZuu1Ln",
      "include_colab_link": true
    },
    "kernelspec": {
      "name": "python3",
      "display_name": "Python 3"
    },
    "language_info": {
      "name": "python"
    }
  },
  "cells": [
    {
      "cell_type": "markdown",
      "metadata": {
        "id": "view-in-github",
        "colab_type": "text"
      },
      "source": [
        "<a href=\"https://colab.research.google.com/github/m0fauzi/BEP2073_J22/blob/main/Wk4_G2L1.ipynb\" target=\"_parent\"><img src=\"https://colab.research.google.com/assets/colab-badge.svg\" alt=\"Open In Colab\"/></a>"
      ]
    },
    {
      "cell_type": "code",
      "execution_count": 3,
      "metadata": {
        "colab": {
          "base_uri": "https://localhost:8080/"
        },
        "id": "5YQ4WPhKhlP1",
        "outputId": "8ced8985-a450-4b83-b95a-a3525c2dfa45"
      },
      "outputs": [
        {
          "output_type": "stream",
          "name": "stdout",
          "text": [
            "x = 3\n",
            "Answer is 1.73\n"
          ]
        }
      ],
      "source": [
        "''' \n",
        "Exercise\n",
        "Date: 25.01.2021\n",
        "FAUZI\n",
        "'''\n",
        "\n",
        "# Request input\n",
        "x = int(input('x = ')) # convert string to int\n",
        "\n",
        "# Calculate \n",
        "ans = x**0.5\n",
        "\n",
        "# Display\n",
        "print('Answer is %0.2f' %ans)"
      ]
    },
    {
      "cell_type": "code",
      "source": [
        "x1 = int(input('x1 = '))\n",
        "x2 = int(input('x2 = '))\n",
        "x3 = int(input('x3 = '))\n",
        "x4 = int(input('x4 = '))\n",
        "x5 = int(input('x5 = '))\n",
        "x6 = int(input('x6 = '))\n",
        "x7 = int(input('x7 = '))\n",
        "x8 = int(input('x8 = '))\n",
        "x9 = int(input('x9 = '))\n",
        "x10 = int(input('x10 = '))\n",
        "\n",
        "#calculate all elemments ...\n",
        "ans = x1*x2*x3*x4*x5*x6*x7*x8*x9*x10\n",
        "\n",
        "#displlay\n",
        "print('Answer = ',ans)"
      ],
      "metadata": {
        "colab": {
          "base_uri": "https://localhost:8080/"
        },
        "id": "qZn_TADAk0sb",
        "outputId": "ec13227d-8e45-4e04-e7eb-faf0d7852888"
      },
      "execution_count": 6,
      "outputs": [
        {
          "output_type": "stream",
          "name": "stdout",
          "text": [
            "x1 = 1\n",
            "x2 = 2\n",
            "x3 = 5\n",
            "x4 = 6\n",
            "x5 = 8\n",
            "x6 = 10\n",
            "x7 = 11\n",
            "x8 = 5\n",
            "x9 = 2\n",
            "x10 = 9\n",
            "Answer =  4752000\n"
          ]
        }
      ]
    },
    {
      "cell_type": "markdown",
      "source": [
        "![image.png](data:image/png;base64,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)"
      ],
      "metadata": {
        "id": "uyPhCuleoPjd"
      }
    },
    {
      "cell_type": "code",
      "source": [
        "X = [10,20,20,20]\n",
        "Y = [10,25,30,40]\n",
        "\n",
        "a1 = X[0] + Y[0]\n",
        "a2 = X[0] + Y[1]\n",
        "a3 = X[0] + Y[2]\n",
        "a4 = X[0] + Y[3]\n",
        "\n",
        "print(a1)\n",
        "print(a2)\n",
        "print(a3)\n",
        "print(a4)\n",
        "\n",
        "a1 = X[1] + Y[0]\n",
        "a2 = X[1] + Y[1]\n",
        "a3 = X[1] + Y[2]\n",
        "a4 = X[1] + Y[3]\n",
        "\n",
        "print(a1)\n",
        "print(a2)\n",
        "print(a3)\n",
        "print(a4)\n",
        "\n",
        "a1 = X[2] + Y[0]\n",
        "a2 = X[2] + Y[1]\n",
        "a3 = X[2] + Y[2]\n",
        "a4 = X[2] + Y[3]\n",
        "\n",
        "print(a1)\n",
        "print(a2)\n",
        "print(a3)\n",
        "print(a4)\n",
        "\n",
        "a1 = X[3] + Y[0]\n",
        "a2 = X[3] + Y[1]\n",
        "a3 = X[3] + Y[2]\n",
        "a4 = X[3] + Y[3]\n",
        "\n",
        "print(a1)\n",
        "print(a2)\n",
        "print(a3)\n",
        "print(a4)"
      ],
      "metadata": {
        "colab": {
          "base_uri": "https://localhost:8080/"
        },
        "id": "81PlTRb8oSyC",
        "outputId": "04f99429-8d6a-4411-b2b7-5775a551fa1c"
      },
      "execution_count": 12,
      "outputs": [
        {
          "output_type": "stream",
          "name": "stdout",
          "text": [
            "20\n",
            "35\n",
            "40\n",
            "50\n",
            "30\n",
            "45\n",
            "50\n",
            "60\n",
            "30\n",
            "45\n",
            "50\n",
            "60\n",
            "30\n",
            "45\n",
            "50\n",
            "60\n"
          ]
        }
      ]
    },
    {
      "cell_type": "code",
      "source": [
        "X = [10,20,20,20]\n",
        "Y = [10,25,30,40]\n",
        "count = 0\n",
        "for i in X:\n",
        "  for j in Y:\n",
        "    sum = i + j\n",
        "    if sum > 50:\n",
        "      count = count + 1\n",
        "print(count)"
      ],
      "metadata": {
        "colab": {
          "base_uri": "https://localhost:8080/"
        },
        "id": "9krqCxMaqcor",
        "outputId": "7409bc03-0fb1-4021-c4f1-0fc19d470679"
      },
      "execution_count": 14,
      "outputs": [
        {
          "output_type": "stream",
          "name": "stdout",
          "text": [
            "3\n"
          ]
        }
      ]
    },
    {
      "cell_type": "code",
      "source": [
        "x = 3\n",
        "type(x)"
      ],
      "metadata": {
        "colab": {
          "base_uri": "https://localhost:8080/"
        },
        "id": "vA7WzrJFrpnj",
        "outputId": "5256a29f-f4a1-46f7-dcb1-854f83d8149f"
      },
      "execution_count": 15,
      "outputs": [
        {
          "output_type": "execute_result",
          "data": {
            "text/plain": [
              "int"
            ]
          },
          "metadata": {},
          "execution_count": 15
        }
      ]
    },
    {
      "cell_type": "code",
      "source": [
        "x,y = 3,5\n",
        "print(x<y)"
      ],
      "metadata": {
        "colab": {
          "base_uri": "https://localhost:8080/"
        },
        "id": "jTy15mXlsgxT",
        "outputId": "02bcd744-922c-46ea-a1d4-e544ca238a22"
      },
      "execution_count": 20,
      "outputs": [
        {
          "output_type": "stream",
          "name": "stdout",
          "text": [
            "True\n"
          ]
        }
      ]
    },
    {
      "cell_type": "code",
      "source": [
        "x,y = 3,5\n",
        "print(not(x<y))"
      ],
      "metadata": {
        "colab": {
          "base_uri": "https://localhost:8080/"
        },
        "id": "9YTmvdndtFtU",
        "outputId": "6b700e23-a54d-4252-aa72-58cee99b1ece"
      },
      "execution_count": 19,
      "outputs": [
        {
          "output_type": "stream",
          "name": "stdout",
          "text": [
            "False\n"
          ]
        }
      ]
    },
    {
      "cell_type": "code",
      "source": [
        "x,y,z = 3,5,6\n",
        "print(x<y and x>z)"
      ],
      "metadata": {
        "colab": {
          "base_uri": "https://localhost:8080/"
        },
        "id": "C8n1DUf5tJx7",
        "outputId": "e8f58a2d-4b65-4c93-909d-855ba3656cd7"
      },
      "execution_count": 21,
      "outputs": [
        {
          "output_type": "stream",
          "name": "stdout",
          "text": [
            "False\n"
          ]
        }
      ]
    },
    {
      "cell_type": "code",
      "source": [
        "a = 33\n",
        "b = 200\n",
        "\n",
        "if b > a:\n",
        "  print(\"b is greater than a\")\n",
        "else:\n",
        "  print(\"a is greater than b\")"
      ],
      "metadata": {
        "colab": {
          "base_uri": "https://localhost:8080/"
        },
        "id": "TbFcr9ASvZ1T",
        "outputId": "b2af7345-042c-432c-c110-63d2ab0f7bdc"
      },
      "execution_count": 24,
      "outputs": [
        {
          "output_type": "stream",
          "name": "stdout",
          "text": [
            "a is greater than b\n"
          ]
        }
      ]
    },
    {
      "cell_type": "code",
      "source": [
        "a = int(input('a = '))\n",
        "b = int(input('b = '))\n",
        "\n",
        "if b > a:\n",
        "  print(\"b is greater than a\")\n",
        "else:\n",
        "  print(\"a is greater than b\")"
      ],
      "metadata": {
        "colab": {
          "base_uri": "https://localhost:8080/"
        },
        "id": "F2s_4xzUwPb8",
        "outputId": "8595330e-cb9a-48d9-adfa-4c3105029327"
      },
      "execution_count": 28,
      "outputs": [
        {
          "output_type": "stream",
          "name": "stdout",
          "text": [
            "a = 10\n",
            "b = 2\n",
            "a is greater than b\n"
          ]
        }
      ]
    },
    {
      "cell_type": "code",
      "source": [
        "a = int(input('a = '))\n",
        "b = int(input('b = '))\n",
        "\n",
        "if b > a:\n",
        "  print(\"b is greater than a\")\n",
        "elif a == b:\n",
        "  print(\"a equal to b\")\n",
        "else:\n",
        "  print(\"a is greater than b\")"
      ],
      "metadata": {
        "colab": {
          "base_uri": "https://localhost:8080/"
        },
        "id": "K4rFVdqGxgyb",
        "outputId": "88a80a38-2ac6-4742-b038-92e738cc3229"
      },
      "execution_count": 31,
      "outputs": [
        {
          "output_type": "stream",
          "name": "stdout",
          "text": [
            "a = 10\n",
            "b = 20\n",
            "b is greater than a\n"
          ]
        }
      ]
    }
  ]
}