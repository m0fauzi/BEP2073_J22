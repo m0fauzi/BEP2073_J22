{
  "nbformat": 4,
  "nbformat_minor": 0,
  "metadata": {
    "colab": {
      "name": "Week_10G1L1.ipynb",
      "provenance": [],
      "authorship_tag": "ABX9TyM45kOcyEpEzqQCBfBdiVjw",
      "include_colab_link": true
    },
    "kernelspec": {
      "name": "python3",
      "display_name": "Python 3"
    },
    "language_info": {
      "name": "python"
    }
  },
  "cells": [
    {
      "cell_type": "markdown",
      "metadata": {
        "id": "view-in-github",
        "colab_type": "text"
      },
      "source": [
        "<a href=\"https://colab.research.google.com/github/m0fauzi/BEP2073_J22/blob/main/Week_10G1L1.ipynb\" target=\"_parent\"><img src=\"https://colab.research.google.com/assets/colab-badge.svg\" alt=\"Open In Colab\"/></a>"
      ]
    },
    {
      "cell_type": "code",
      "execution_count": null,
      "metadata": {
        "id": "_Q4rZoLwsTzX"
      },
      "outputs": [],
      "source": [
        "'''\n",
        "a = 1\n",
        "a == 1\n",
        "\n",
        "for {...}:\n",
        "--> {...}  \n",
        "\n",
        "if {...}:\n",
        "-->{...}  \n",
        "\n",
        "def name(inArg):\n",
        "--> {...}\n",
        "-->return  \n",
        "'''"
      ]
    },
    {
      "cell_type": "code",
      "source": [
        "# Example Slide 5.1\n",
        "\n",
        "class Student():\n",
        "  def __init__(self):\n",
        "    self.StudentList = []\n",
        "\n",
        "  def addStudent(self,name): \n",
        "    self. StudentList.append(name)\n"
      ],
      "metadata": {
        "id": "Atpx-3_GtMHB"
      },
      "execution_count": 1,
      "outputs": []
    },
    {
      "cell_type": "code",
      "source": [
        "s = Student()\n",
        "s.addStudent('ABC')"
      ],
      "metadata": {
        "id": "Asojn31Iw4v3"
      },
      "execution_count": 2,
      "outputs": []
    },
    {
      "cell_type": "code",
      "source": [
        "# Example Slide 5.1\n",
        "\n",
        "class Student():\n",
        "  def __init__(self):\n",
        "    self.StudentList = []\n",
        "\n",
        "  def addStudent(self,name): \n",
        "    self. StudentList.append(name)\n",
        "\n",
        "s = Student()\n",
        "\n",
        "while True:\n",
        "  print('Please select 1 or 2')\n",
        "  print('1 - Data Entry')\n",
        "  print('2 - Exit')\n",
        "  a = int(input('Selection: ')) \n",
        "  try:\n",
        "    Opt = 1/a\n",
        "\n",
        "    if Opt == 1:\n",
        "      s.addStudent(input('Student Name: '))\n",
        "    elif Opt == 0.5:\n",
        "      break\n",
        "    else:\n",
        "      print('Wrong Selection. Try Again!!')    \n",
        "    print('\\n')\n",
        "  except ZeroDivisionError as e:\n",
        "    print('Error', e)"
      ],
      "metadata": {
        "colab": {
          "base_uri": "https://localhost:8080/"
        },
        "id": "vYorkFibyw4N",
        "outputId": "e24d6e07-d2fb-4c19-d754-dfe5134e45fb"
      },
      "execution_count": 13,
      "outputs": [
        {
          "name": "stdout",
          "output_type": "stream",
          "text": [
            "Please select 1 or 2\n",
            "1 - Data Entry\n",
            "2 - Exit\n",
            "Selection: 1\n",
            "Student Name: as\n",
            "\n",
            "\n",
            "Please select 1 or 2\n",
            "1 - Data Entry\n",
            "2 - Exit\n",
            "Selection: 2\n"
          ]
        }
      ]
    },
    {
      "cell_type": "code",
      "source": [
        "# Example Slide 5.1\n",
        "\n",
        "class Student():\n",
        "  def __init__(self):\n",
        "    self.StudentList = []\n",
        "\n",
        "  def addStudent(self,name): \n",
        "    self. StudentList.append(name)\n",
        "  \n",
        "  def removeStudent(self,name):\n",
        "    self.StudentList.remove(name)\n",
        "\n",
        "\n",
        "s = Student()\n",
        "\n",
        "while True:\n",
        "  print('Please select 1 or 2')\n",
        "  print('1 - Data Entry')\n",
        "  print('2 - Remove Entry')\n",
        "  print('3 - Exit')\n",
        "  Opt = input('Selection: ')\n",
        "  if Opt == '1':\n",
        "    s.addStudent(input('Student Name: '))\n",
        "  elif Opt == '2':\n",
        "    try:\n",
        "      s.removeStudent(input('Student Name: '))\n",
        "    except ValueError as e:\n",
        "      print('Error: ',e)\n",
        "  elif Opt == '3':\n",
        "    break\n",
        "  else:\n",
        "    print('Wrong Selection. Try Again!!')    \n",
        "  print('\\n')\n",
        "  "
      ],
      "metadata": {
        "colab": {
          "base_uri": "https://localhost:8080/"
        },
        "id": "ME4uOZ3Y376O",
        "outputId": "267bc433-4565-4161-e091-973ac9b0a788"
      },
      "execution_count": 17,
      "outputs": [
        {
          "name": "stdout",
          "output_type": "stream",
          "text": [
            "Please select 1 or 2\n",
            "1 - Data Entry\n",
            "2 - Remove Entry\n",
            "3 - Exit\n",
            "Selection: 2\n",
            "Student Name: ABC\n",
            "Error:  list.remove(x): x not in list\n",
            "\n",
            "\n",
            "Please select 1 or 2\n",
            "1 - Data Entry\n",
            "2 - Remove Entry\n",
            "3 - Exit\n",
            "Selection: 1\n",
            "Student Name: ABC\n",
            "\n",
            "\n",
            "Please select 1 or 2\n",
            "1 - Data Entry\n",
            "2 - Remove Entry\n",
            "3 - Exit\n",
            "Selection: 2\n",
            "Student Name: ABC\n",
            "\n",
            "\n",
            "Please select 1 or 2\n",
            "1 - Data Entry\n",
            "2 - Remove Entry\n",
            "3 - Exit\n",
            "Selection: 2\n",
            "Student Name: ABC\n",
            "Error:  list.remove(x): x not in list\n",
            "\n",
            "\n",
            "Please select 1 or 2\n",
            "1 - Data Entry\n",
            "2 - Remove Entry\n",
            "3 - Exit\n",
            "Selection: 3\n"
          ]
        }
      ]
    },
    {
      "cell_type": "code",
      "source": [
        "x = [1, 2, 3,5, 7, 6, 9, 8 ]"
      ],
      "metadata": {
        "id": "hC2Fbvar6yQQ"
      },
      "execution_count": null,
      "outputs": []
    },
    {
      "cell_type": "code",
      "source": [
        "import pandas as pd\n",
        "\n",
        "Data = pd.read_csv('Data1.csv')\n",
        "print(Data)"
      ],
      "metadata": {
        "colab": {
          "base_uri": "https://localhost:8080/"
        },
        "id": "3gkso_vM7SE3",
        "outputId": "447cfbb4-afce-4b73-a999-88780ed36986"
      },
      "execution_count": 22,
      "outputs": [
        {
          "output_type": "stream",
          "name": "stdout",
          "text": [
            "       X    Y    Z\n",
            "0    953  428  407\n",
            "1    838  288  484\n",
            "2    669  456  391\n",
            "3    125  272  495\n",
            "4    523  275  255\n",
            "..   ...  ...  ...\n",
            "694  475  449  332\n",
            "695  171  303  496\n",
            "696  666  391  163\n",
            "697   37  109  383\n",
            "698  102  186  346\n",
            "\n",
            "[699 rows x 3 columns]\n"
          ]
        }
      ]
    },
    {
      "cell_type": "code",
      "source": [
        "Data.X"
      ],
      "metadata": {
        "colab": {
          "base_uri": "https://localhost:8080/"
        },
        "id": "xTgmxHJy8V3I",
        "outputId": "1c5bde4b-9cfa-497f-8153-f887224dbb47"
      },
      "execution_count": 23,
      "outputs": [
        {
          "output_type": "execute_result",
          "data": {
            "text/plain": [
              "0      953\n",
              "1      838\n",
              "2      669\n",
              "3      125\n",
              "4      523\n",
              "      ... \n",
              "694    475\n",
              "695    171\n",
              "696    666\n",
              "697     37\n",
              "698    102\n",
              "Name: X, Length: 699, dtype: int64"
            ]
          },
          "metadata": {},
          "execution_count": 23
        }
      ]
    },
    {
      "cell_type": "code",
      "source": [
        "Data.X[0]"
      ],
      "metadata": {
        "colab": {
          "base_uri": "https://localhost:8080/"
        },
        "id": "jrXVIqJb8g8A",
        "outputId": "38cb768b-1f9e-4403-d8d1-f8678f8291ff"
      },
      "execution_count": 24,
      "outputs": [
        {
          "output_type": "execute_result",
          "data": {
            "text/plain": [
              "953"
            ]
          },
          "metadata": {},
          "execution_count": 24
        }
      ]
    },
    {
      "cell_type": "code",
      "source": [
        "count=0\n",
        "for i in Data.X:\n",
        "  if i%2 == 0:\n",
        "    count = count + 1\n",
        "perct = count/len(Data.X) * 100    \n",
        "print('Percentage of even number: %0.2f%%' %perct)"
      ],
      "metadata": {
        "colab": {
          "base_uri": "https://localhost:8080/"
        },
        "id": "7kIrbsyI8lHp",
        "outputId": "bc6a7f1e-f04f-435f-c2d8-09ca6d986979"
      },
      "execution_count": 30,
      "outputs": [
        {
          "output_type": "stream",
          "name": "stdout",
          "text": [
            "Percentage of even number: 47.78%\n"
          ]
        }
      ]
    }
  ]
}