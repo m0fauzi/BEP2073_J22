{
  "nbformat": 4,
  "nbformat_minor": 0,
  "metadata": {
    "colab": {
      "name": "Wk6_G2L2.ipynb",
      "provenance": [],
      "authorship_tag": "ABX9TyOFNBPVDoHGXCSuGddw4+SK",
      "include_colab_link": true
    },
    "kernelspec": {
      "name": "python3",
      "display_name": "Python 3"
    },
    "language_info": {
      "name": "python"
    }
  },
  "cells": [
    {
      "cell_type": "markdown",
      "metadata": {
        "id": "view-in-github",
        "colab_type": "text"
      },
      "source": [
        "<a href=\"https://colab.research.google.com/github/m0fauzi/BEP2073_J22/blob/main/Wk6_G2L2.ipynb\" target=\"_parent\"><img src=\"https://colab.research.google.com/assets/colab-badge.svg\" alt=\"Open In Colab\"/></a>"
      ]
    },
    {
      "cell_type": "code",
      "execution_count": 2,
      "metadata": {
        "id": "Ds5H2r8qyZJk"
      },
      "outputs": [],
      "source": [
        "x = [2,4,3,8]\n",
        "y = (1,2,3,4)"
      ]
    },
    {
      "cell_type": "code",
      "source": [
        "y = (1,2,3,'A','B')\n",
        "\n",
        "print(x)"
      ],
      "metadata": {
        "colab": {
          "base_uri": "https://localhost:8080/"
        },
        "id": "ozc5Wz50yran",
        "outputId": "4041ad68-7872-406c-fecf-0660e82b5608"
      },
      "execution_count": 4,
      "outputs": [
        {
          "output_type": "stream",
          "name": "stdout",
          "text": [
            "[2, 4, 3, 8]\n"
          ]
        }
      ]
    },
    {
      "cell_type": "code",
      "source": [
        "print(x[3])"
      ],
      "metadata": {
        "colab": {
          "base_uri": "https://localhost:8080/"
        },
        "id": "vu2OP-MDy_f2",
        "outputId": "365a5ab9-fd25-438f-f01b-e1c6b264d23b"
      },
      "execution_count": 5,
      "outputs": [
        {
          "output_type": "stream",
          "name": "stdout",
          "text": [
            "8\n"
          ]
        }
      ]
    },
    {
      "cell_type": "code",
      "source": [
        "iter = 0\n",
        "for i in x:\n",
        "  iter=iter + 1\n",
        "  print('Iteration: %d; i = %d'%(iter,i))"
      ],
      "metadata": {
        "colab": {
          "base_uri": "https://localhost:8080/"
        },
        "id": "50fQ3HqYzH4m",
        "outputId": "845ad321-3308-4dfc-e1d0-d19a0c2cedec"
      },
      "execution_count": 9,
      "outputs": [
        {
          "output_type": "stream",
          "name": "stdout",
          "text": [
            "Iteration: 1; i = 2\n",
            "Iteration: 2; i = 4\n",
            "Iteration: 3; i = 3\n",
            "Iteration: 4; i = 8\n"
          ]
        }
      ]
    },
    {
      "cell_type": "code",
      "source": [
        "n = 41.2/(12+16*2)\n",
        "R = 0.08206 #L.atm./(K.mol)\n",
        "T = 514 #K\n",
        "P = [51, 82, 22, 54, 71, 78, 48, 34, 48, 10]\n",
        "\n",
        "V = n*R*T/P[0]\n",
        "\n",
        "print('At P = %d atm, Volume = %0.3f L'%(P[0],V))"
      ],
      "metadata": {
        "colab": {
          "base_uri": "https://localhost:8080/"
        },
        "id": "7n7cMDsT2B7Y",
        "outputId": "85ba9d5e-78b1-45b7-9eae-015864a03f96"
      },
      "execution_count": 15,
      "outputs": [
        {
          "output_type": "stream",
          "name": "stdout",
          "text": [
            "At P = 51 atm, Volume = 0.774 L\n"
          ]
        }
      ]
    },
    {
      "cell_type": "code",
      "source": [
        "n = n = 41.2/(12+16*2)\n",
        "R = 0.08206 #L.atm./(K.mol)\n",
        "T = 514 #K\n",
        "P = [51, 82, 22, 54, 71, 78, 48, 34, 48, 10]\n",
        "\n",
        "for p in P:\n",
        "  V = n*R*T/p\n",
        "  print('At P = %d atm, Volume = %0.3f L'%(p,V))"
      ],
      "metadata": {
        "colab": {
          "base_uri": "https://localhost:8080/"
        },
        "id": "8CQ9LNxx3ASh",
        "outputId": "19f6fcba-0d45-4623-e1d7-9703b8d20600"
      },
      "execution_count": 16,
      "outputs": [
        {
          "output_type": "stream",
          "name": "stdout",
          "text": [
            "At P = 51 atm, Volume = 0.774 L\n",
            "At P = 82 atm, Volume = 0.482 L\n",
            "At P = 22 atm, Volume = 1.795 L\n",
            "At P = 54 atm, Volume = 0.731 L\n",
            "At P = 71 atm, Volume = 0.556 L\n",
            "At P = 78 atm, Volume = 0.506 L\n",
            "At P = 48 atm, Volume = 0.823 L\n",
            "At P = 34 atm, Volume = 1.162 L\n",
            "At P = 48 atm, Volume = 0.823 L\n",
            "At P = 10 atm, Volume = 3.949 L\n"
          ]
        }
      ]
    },
    {
      "cell_type": "code",
      "source": [
        "n = n = 41.2/(12+16*2)\n",
        "R = 0.08206 #L.atm./(K.mol)\n",
        "T = 514 #K\n",
        "P = [51, 82, 22, 54, 71, 78, 48, 34, 48, 10]\n",
        "\n",
        "for i in range(len(P)):\n",
        "  V = n*R*T/P[i]\n",
        "  print('At P = %d atm, Volume = %0.3f L'%(P[i],V))"
      ],
      "metadata": {
        "colab": {
          "base_uri": "https://localhost:8080/"
        },
        "id": "fRZ7She_3cVO",
        "outputId": "aa592840-e3a0-4b3f-ffd4-602b80172799"
      },
      "execution_count": 17,
      "outputs": [
        {
          "output_type": "stream",
          "name": "stdout",
          "text": [
            "At P = 51 atm, Volume = 0.774 L\n",
            "At P = 82 atm, Volume = 0.482 L\n",
            "At P = 22 atm, Volume = 1.795 L\n",
            "At P = 54 atm, Volume = 0.731 L\n",
            "At P = 71 atm, Volume = 0.556 L\n",
            "At P = 78 atm, Volume = 0.506 L\n",
            "At P = 48 atm, Volume = 0.823 L\n",
            "At P = 34 atm, Volume = 1.162 L\n",
            "At P = 48 atm, Volume = 0.823 L\n",
            "At P = 10 atm, Volume = 3.949 L\n"
          ]
        }
      ]
    },
    {
      "cell_type": "code",
      "source": [
        "T = [0,8,16,24,32,40]\n",
        "DO = [14.621,\t11.843,\t9.87,\t8.47,\t7.305,\t6.413]\n",
        "\n",
        "t = int(input('T = '))\n",
        "\n",
        "idx = T.index(t)\n",
        "do = DO[idx]\n",
        "print('DO = %0.4f mg/L' %do)\n",
        "\n"
      ],
      "metadata": {
        "colab": {
          "base_uri": "https://localhost:8080/"
        },
        "id": "ZfodPtbI6zgp",
        "outputId": "798d4b1b-c4d0-4cdc-b4ca-da5c647ee7ee"
      },
      "execution_count": 23,
      "outputs": [
        {
          "output_type": "stream",
          "name": "stdout",
          "text": [
            "T = 8\n",
            "DO = 11.8430 mg/L\n"
          ]
        }
      ]
    },
    {
      "cell_type": "code",
      "source": [
        "T = [0,8,16,24,32,40]\n",
        "DO = [14.621,\t11.843,\t9.87,\t8.47,\t7.305,\t6.413]\n",
        "\n",
        "for i in range(3):\n",
        "  t = int(input('T = '))\n",
        "  idx = T.index(t)\n",
        "  do = DO[idx]\n",
        "  print('DO = %0.4f mg/L' %do)"
      ],
      "metadata": {
        "colab": {
          "base_uri": "https://localhost:8080/"
        },
        "id": "BVrndVtc8OHm",
        "outputId": "f21151d4-9cd6-45ba-bbe0-e737f97f160c"
      },
      "execution_count": 24,
      "outputs": [
        {
          "output_type": "stream",
          "name": "stdout",
          "text": [
            "T = 8\n",
            "DO = 11.8430 mg/L\n",
            "T = 16\n",
            "DO = 9.8700 mg/L\n",
            "T = 32\n",
            "DO = 7.3050 mg/L\n"
          ]
        }
      ]
    },
    {
      "cell_type": "code",
      "source": [
        "T = [0,8,16,24,32,40]\n",
        "DO = [14.621,\t11.843,\t9.87,\t8.47,\t7.305,\t6.413]\n",
        "t = [8,16,32]\n",
        "for i in t:\n",
        "  idx = T.index(i)\n",
        "  do = DO[idx]\n",
        "  print('DO = %0.4f mg/L' %do)"
      ],
      "metadata": {
        "colab": {
          "base_uri": "https://localhost:8080/"
        },
        "id": "cmQ_qqmf8bv-",
        "outputId": "6d21ce35-4310-4d31-a738-6742b337abb4"
      },
      "execution_count": 25,
      "outputs": [
        {
          "output_type": "stream",
          "name": "stdout",
          "text": [
            "DO = 11.8430 mg/L\n",
            "DO = 9.8700 mg/L\n",
            "DO = 7.3050 mg/L\n"
          ]
        }
      ]
    },
    {
      "cell_type": "code",
      "source": [
        "x = {10,2,14,6,7}\n",
        "print(x)\n",
        "for i in x:\n",
        "  print(i)"
      ],
      "metadata": {
        "colab": {
          "base_uri": "https://localhost:8080/"
        },
        "id": "6GwK_Sll9aiW",
        "outputId": "7d585db5-4b8c-44fa-a8a7-d3b9ab0c257c"
      },
      "execution_count": 29,
      "outputs": [
        {
          "output_type": "stream",
          "name": "stdout",
          "text": [
            "{2, 6, 7, 10, 14}\n",
            "2\n",
            "6\n",
            "7\n",
            "10\n",
            "14\n"
          ]
        }
      ]
    },
    {
      "cell_type": "code",
      "source": [
        "Car = {\n",
        "    \"Brand\":\"Ford\",\n",
        "    \"Model\":\"Mustang\",\n",
        "    \"Year\":1964\n",
        "}\n",
        "print(Car[\"Brand\"])\n",
        "print(Car[\"Model\"])"
      ],
      "metadata": {
        "colab": {
          "base_uri": "https://localhost:8080/"
        },
        "id": "ZjY9nEvv-FZQ",
        "outputId": "2cec250b-f7ae-4ddb-e2d2-920a40e1ba2b"
      },
      "execution_count": 33,
      "outputs": [
        {
          "output_type": "stream",
          "name": "stdout",
          "text": [
            "Ford\n",
            "Mustang\n"
          ]
        }
      ]
    },
    {
      "cell_type": "code",
      "source": [
        "x=[1,2,3,45,4,3,2]\n",
        "print(x)\n",
        "x.append(12)\n",
        "print(x)\n",
        "x.remove(3)\n",
        "print(x)"
      ],
      "metadata": {
        "colab": {
          "base_uri": "https://localhost:8080/"
        },
        "id": "5Q0snzQ1_PDX",
        "outputId": "9024db7b-ca00-4615-da68-1d02e5a5988a"
      },
      "execution_count": 37,
      "outputs": [
        {
          "output_type": "stream",
          "name": "stdout",
          "text": [
            "[1, 2, 3, 45, 4, 3, 2]\n",
            "[1, 2, 3, 45, 4, 3, 2, 12]\n",
            "[1, 2, 45, 4, 3, 2, 12]\n"
          ]
        }
      ]
    },
    {
      "cell_type": "code",
      "source": [
        "class House:\n",
        "  floors = 3\n",
        "  door = 5\n",
        "\n",
        "print(House.door)"
      ],
      "metadata": {
        "colab": {
          "base_uri": "https://localhost:8080/"
        },
        "id": "PI8jtG9t_2qm",
        "outputId": "0e99d269-cf11-4007-b65d-728f4669eaec"
      },
      "execution_count": 38,
      "outputs": [
        {
          "output_type": "stream",
          "name": "stdout",
          "text": [
            "5\n"
          ]
        }
      ]
    },
    {
      "cell_type": "code",
      "source": [
        "class House:\n",
        "  floors = 3\n",
        "  door = 5\n",
        "\n",
        "h = House()\n",
        "h.door = 6\n",
        "k = House()\n",
        "\n",
        "print(h.door)\n",
        "print(k.door)"
      ],
      "metadata": {
        "colab": {
          "base_uri": "https://localhost:8080/"
        },
        "id": "79-FcKmSAb7h",
        "outputId": "35547f50-bf48-4d85-c740-12c8b23a02d3"
      },
      "execution_count": 41,
      "outputs": [
        {
          "output_type": "stream",
          "name": "stdout",
          "text": [
            "6\n",
            "5\n"
          ]
        }
      ]
    },
    {
      "cell_type": "code",
      "source": [
        "n = [0.035,\t0.02,\t0.015,\t0.03,\t0.022]\n",
        "S = [0.0001,\t0.0002,\t0.001,\t0.007,\t0.003]\n",
        "B = [10,\t8,\t20,\t24,\t15]\n",
        "H = [2,\t1,\t1.5,\t3,\t2.5]\n",
        "\n",
        "#Channel A, \n",
        "i = 0\n",
        "U = (S[i]**0.5/n[i])*((B[i]*H[i])/(B[i]+2*H[i]))**(2/3)\n",
        "print('Channel A: U = %0.3f m/s'%U)"
      ],
      "metadata": {
        "colab": {
          "base_uri": "https://localhost:8080/"
        },
        "id": "e9kaDfmVBGS2",
        "outputId": "4e4d7609-6383-401f-901d-95dfb11c2f36"
      },
      "execution_count": 44,
      "outputs": [
        {
          "output_type": "stream",
          "name": "stdout",
          "text": [
            "Channel A: U = 0.362 m/s\n"
          ]
        }
      ]
    },
    {
      "cell_type": "code",
      "source": [
        "n = [0.035,\t0.02,\t0.015,\t0.03,\t0.022]\n",
        "S = [0.0001,\t0.0002,\t0.001,\t0.007,\t0.003]\n",
        "B = [10,\t8,\t20,\t24,\t15]\n",
        "H = [2,\t1,\t1.5,\t3,\t2.5]\n",
        "lbl =['A','B','C','D','E']\n",
        "\n",
        "for i in range(len(n)):\n",
        "  U = (S[i]**0.5/n[i])*((B[i]*H[i])/(B[i]+2*H[i]))**(2/3)\n",
        "  print('Channel %s: U = %0.3f m/s'%(lbl[i],U))"
      ],
      "metadata": {
        "colab": {
          "base_uri": "https://localhost:8080/"
        },
        "id": "axtToNmICl6O",
        "outputId": "8ec514d7-e271-4e10-d52c-aceaad173157"
      },
      "execution_count": 46,
      "outputs": [
        {
          "output_type": "stream",
          "name": "stdout",
          "text": [
            "Channel A: U = 0.362 m/s\n",
            "Channel B: U = 0.609 m/s\n",
            "Channel C: U = 2.517 m/s\n",
            "Channel D: U = 4.999 m/s\n",
            "Channel E: U = 3.786 m/s\n"
          ]
        }
      ]
    }
  ]
}