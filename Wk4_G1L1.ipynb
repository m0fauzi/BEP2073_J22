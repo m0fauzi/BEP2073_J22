{
  "nbformat": 4,
  "nbformat_minor": 0,
  "metadata": {
    "colab": {
      "name": "Wk4_G1L1.ipynb",
      "provenance": [],
      "authorship_tag": "ABX9TyOiQI6NxIqPF6y1pJ23UOvk",
      "include_colab_link": true
    },
    "kernelspec": {
      "name": "python3",
      "display_name": "Python 3"
    },
    "language_info": {
      "name": "python"
    }
  },
  "cells": [
    {
      "cell_type": "markdown",
      "metadata": {
        "id": "view-in-github",
        "colab_type": "text"
      },
      "source": [
        "<a href=\"https://colab.research.google.com/github/m0fauzi/BEP2073_J22/blob/main/Wk4_G1L1.ipynb\" target=\"_parent\"><img src=\"https://colab.research.google.com/assets/colab-badge.svg\" alt=\"Open In Colab\"/></a>"
      ]
    },
    {
      "cell_type": "code",
      "execution_count": 2,
      "metadata": {
        "colab": {
          "base_uri": "https://localhost:8080/"
        },
        "id": "-9Oapr4hZvn2",
        "outputId": "5aa28b16-4279-4423-e0f8-14d168e83ba5"
      },
      "outputs": [
        {
          "output_type": "stream",
          "name": "stdout",
          "text": [
            "4.525714285714286\n"
          ]
        }
      ],
      "source": [
        "r = 1.2\n",
        "Area = 22/7*r**2\n",
        "print(Area)"
      ]
    },
    {
      "cell_type": "code",
      "source": [
        "'''\n",
        "Proper way of code\n",
        "Question 1: Determine the area of circle with radius of 1.2 m.\n",
        "Date: 24.01.2022\n",
        "FAUZI\n",
        "'''\n",
        "\n",
        "#Define radius\n",
        "r = 1.2 #unit in meter\n",
        "\n",
        "#Calculate Area of circle\n",
        "Area = 22/7*r**2 # unit in m2\n",
        "\n",
        "#Display Area\n",
        "print('Area = ',Area,' m2')\n",
        "\n",
        "#Display Area (Optional)\n",
        "print('Area = %0.2f m2' %Area)"
      ],
      "metadata": {
        "colab": {
          "base_uri": "https://localhost:8080/"
        },
        "id": "_NC2AB2Ubpzl",
        "outputId": "d51c8513-1ef9-41a5-9033-794ee3178f59"
      },
      "execution_count": 8,
      "outputs": [
        {
          "output_type": "stream",
          "name": "stdout",
          "text": [
            "Area =  4.525714285714286  m2\n",
            "Area = 4.53 m2\n"
          ]
        }
      ]
    },
    {
      "cell_type": "code",
      "source": [
        "M = 'ABCD'\n",
        "K = [1,2,5,6,8,10,3]\n",
        "c = len(M)\n",
        "k = len(K) # len will return number of item inside the object.\n",
        "print('count item M = ',c)\n",
        "print('count item K = ',k)"
      ],
      "metadata": {
        "colab": {
          "base_uri": "https://localhost:8080/"
        },
        "id": "4QKgdur9dURv",
        "outputId": "23e07a6f-4027-48cb-962b-b31daf8fece4"
      },
      "execution_count": 11,
      "outputs": [
        {
          "output_type": "stream",
          "name": "stdout",
          "text": [
            "count item M =  4\n",
            "count item K =  7\n"
          ]
        }
      ]
    },
    {
      "cell_type": "code",
      "source": [
        "x = 3\n",
        "x = x>>3\n",
        "print(x)"
      ],
      "metadata": {
        "colab": {
          "base_uri": "https://localhost:8080/"
        },
        "id": "TttwN2cJhgvw",
        "outputId": "4ab9fa11-5b9a-48c6-c82b-8b20e39454b7"
      },
      "execution_count": 19,
      "outputs": [
        {
          "output_type": "stream",
          "name": "stdout",
          "text": [
            "0\n"
          ]
        }
      ]
    },
    {
      "cell_type": "code",
      "source": [
        "a = int(input('a = '))\n",
        "b =  int(input('b = '))\n",
        "if b > a:\n",
        "  print('b is greater than a')\n",
        "else:\n",
        "  print('a is greater than b')"
      ],
      "metadata": {
        "colab": {
          "base_uri": "https://localhost:8080/"
        },
        "id": "t6MtzL9finIB",
        "outputId": "323f36c7-c3c3-4a3a-b24d-6440979779d9"
      },
      "execution_count": 23,
      "outputs": [
        {
          "output_type": "stream",
          "name": "stdout",
          "text": [
            "a = 10\n",
            "b = 3\n",
            "a is greater than b\n"
          ]
        }
      ]
    },
    {
      "cell_type": "code",
      "source": [
        "a = int(input('a = '))\n",
        "b =  int(input('b = '))\n",
        "if b > a:\n",
        "  print('b is greater than a')\n",
        "  abs_dev = b-a\n",
        "  print('|e| = ',abs_dev)\n",
        "else:\n",
        "  print('a is greater than b')\n",
        "  abs_dev = a-b\n",
        "  print('|e| = ',abs_dev)"
      ],
      "metadata": {
        "colab": {
          "base_uri": "https://localhost:8080/"
        },
        "id": "eQgOl1e9jeb2",
        "outputId": "8cfdac3f-5213-4e8e-d30a-9634c716a8c7"
      },
      "execution_count": 25,
      "outputs": [
        {
          "output_type": "stream",
          "name": "stdout",
          "text": [
            "a = 10\n",
            "b = 7\n",
            "a is greater than b\n",
            "|e| =  3\n"
          ]
        }
      ]
    },
    {
      "cell_type": "code",
      "source": [
        "''' Topic'''\n",
        "#get number\n",
        "a = int(input('a = '))\n",
        "b =  int(input('b = '))\n",
        "#test number and calculate abs e\n",
        "if b > a:\n",
        "  print('b is greater than a')\n",
        "  abs_dev = b-a\n",
        "else:\n",
        "  print('a is greater than b')\n",
        "  abs_dev = a-b\n",
        "\n",
        "#display answer\n",
        "print('|e| = ',abs_dev)"
      ],
      "metadata": {
        "colab": {
          "base_uri": "https://localhost:8080/"
        },
        "id": "oqLX48-JkQhx",
        "outputId": "26e47f2d-351b-4f8f-ac14-cd202d197adf"
      },
      "execution_count": 26,
      "outputs": [
        {
          "output_type": "stream",
          "name": "stdout",
          "text": [
            "a = 90\n",
            "b = 100\n",
            "b is greater than a\n",
            "|e| =  10\n"
          ]
        }
      ]
    },
    {
      "cell_type": "code",
      "source": [
        "''' Topic'''\n",
        "#get number\n",
        "a = int(input('a = '))\n",
        "b =  int(input('b = '))\n",
        "#test number and calculate abs e\n",
        "if b > a:\n",
        "  print('b is greater than a')\n",
        "  abs_dev = b-a\n",
        "elif b == a:\n",
        "  print('a equal b')\n",
        "  abs_dev = 0\n",
        "else:\n",
        "  print('a is greater than b')\n",
        "  abs_dev = a-b\n",
        "\n",
        "#display answer\n",
        "print('|e| = ',abs_dev)"
      ],
      "metadata": {
        "colab": {
          "base_uri": "https://localhost:8080/"
        },
        "id": "nW7PlcAFl3jn",
        "outputId": "104c3670-7bbf-4228-85b6-685c0d717aed"
      },
      "execution_count": 29,
      "outputs": [
        {
          "output_type": "stream",
          "name": "stdout",
          "text": [
            "a = 10\n",
            "b = 2\n",
            "a is greater than b\n",
            "|e| =  8\n"
          ]
        }
      ]
    },
    {
      "cell_type": "code",
      "source": [
        "for x in \"banana\":\n",
        "  print(x)"
      ],
      "metadata": {
        "colab": {
          "base_uri": "https://localhost:8080/"
        },
        "id": "A-ByKk3Lm4fp",
        "outputId": "8a9e6bc7-6f6a-4696-d0f6-cd19b6f42978"
      },
      "execution_count": 30,
      "outputs": [
        {
          "output_type": "stream",
          "name": "stdout",
          "text": [
            "b\n",
            "a\n",
            "n\n",
            "a\n",
            "n\n",
            "a\n"
          ]
        }
      ]
    },
    {
      "cell_type": "code",
      "source": [
        "count = 1\n",
        "for x in range(3):\n",
        "  count = count + 1\n",
        "  print(count)\n",
        "#print(count)\n"
      ],
      "metadata": {
        "colab": {
          "base_uri": "https://localhost:8080/"
        },
        "id": "RQiLP_L0n-wH",
        "outputId": "8763069e-ef8a-46ef-dc00-c26aedd5f606"
      },
      "execution_count": 34,
      "outputs": [
        {
          "output_type": "stream",
          "name": "stdout",
          "text": [
            "2\n",
            "3\n",
            "4\n"
          ]
        }
      ]
    },
    {
      "cell_type": "code",
      "source": [
        "M = 'ABCD'\n",
        "K = [1,2,5,10,3,19]\n",
        "c = len(M)\n",
        "k = len(K) # len will return number of item inside the object.\n",
        "K.append(10)\n",
        "print(K)\n",
        "\n",
        "for i in range(len(K)):\n",
        "  print(K[i])"
      ],
      "metadata": {
        "colab": {
          "base_uri": "https://localhost:8080/"
        },
        "id": "-XDvwiy5og7Z",
        "outputId": "c94bf7f1-a214-47bf-d1ca-1a735d6ce677"
      },
      "execution_count": 47,
      "outputs": [
        {
          "output_type": "stream",
          "name": "stdout",
          "text": [
            "[1, 2, 5, 10, 3, 19, 10]\n",
            "1\n",
            "2\n",
            "5\n",
            "10\n",
            "3\n",
            "19\n",
            "10\n"
          ]
        }
      ]
    },
    {
      "cell_type": "code",
      "source": [
        "K[3]"
      ],
      "metadata": {
        "colab": {
          "base_uri": "https://localhost:8080/"
        },
        "id": "LoYK29bIo25g",
        "outputId": "237b37cd-7884-4aea-edbb-ab85652ab58c"
      },
      "execution_count": 37,
      "outputs": [
        {
          "output_type": "execute_result",
          "data": {
            "text/plain": [
              "6"
            ]
          },
          "metadata": {},
          "execution_count": 37
        }
      ]
    },
    {
      "cell_type": "code",
      "source": [
        "num = [0,1,2,3,4,5,6,7,8,9,10]\n",
        "sum = 0\n",
        "for i in num:\n",
        "  c = num[i]%2\n",
        "  if c == 0:\n",
        "    print('even')\n",
        "    sum = sum + num[i]\n",
        "  else:\n",
        "    print('odd')\n",
        "\n",
        "print(sum)\n"
      ],
      "metadata": {
        "colab": {
          "base_uri": "https://localhost:8080/"
        },
        "id": "rPGYgotzqDGq",
        "outputId": "36973927-4004-4d3a-90c5-fcd6c4e63e92"
      },
      "execution_count": 54,
      "outputs": [
        {
          "output_type": "stream",
          "name": "stdout",
          "text": [
            "even\n",
            "odd\n",
            "even\n",
            "odd\n",
            "even\n",
            "odd\n",
            "even\n",
            "odd\n",
            "even\n",
            "odd\n",
            "even\n",
            "30\n"
          ]
        }
      ]
    }
  ]
}