{
  "nbformat": 4,
  "nbformat_minor": 0,
  "metadata": {
    "colab": {
      "name": "Wk4_G1L2.ipynb",
      "provenance": [],
      "authorship_tag": "ABX9TyMKLdfEUwSI02Aj8J26IM7L",
      "include_colab_link": true
    },
    "kernelspec": {
      "name": "python3",
      "display_name": "Python 3"
    },
    "language_info": {
      "name": "python"
    }
  },
  "cells": [
    {
      "cell_type": "markdown",
      "metadata": {
        "id": "view-in-github",
        "colab_type": "text"
      },
      "source": [
        "<a href=\"https://colab.research.google.com/github/m0fauzi/BEP2073_J22/blob/main/Wk4_G1L2.ipynb\" target=\"_parent\"><img src=\"https://colab.research.google.com/assets/colab-badge.svg\" alt=\"Open In Colab\"/></a>"
      ]
    },
    {
      "cell_type": "code",
      "execution_count": 2,
      "metadata": {
        "colab": {
          "base_uri": "https://localhost:8080/"
        },
        "id": "_zwv8Wzj0yEb",
        "outputId": "5764b7c1-7846-44f2-b089-51a58c6820d5"
      },
      "outputs": [
        {
          "output_type": "stream",
          "name": "stdout",
          "text": [
            "x = 3 is odd\n"
          ]
        }
      ],
      "source": [
        "x = 3\n",
        "print('x = %d is odd' %x)\n",
        "#print('x = %d is even' %x)"
      ]
    },
    {
      "cell_type": "code",
      "source": [
        "x = int(input('x = '))\n",
        "\n",
        "if x % 2 == 0:\n",
        "  print('x = %d is even' %x)\n",
        "else:\n",
        "  print('x = %d is odd' %x)  \n"
      ],
      "metadata": {
        "colab": {
          "base_uri": "https://localhost:8080/"
        },
        "id": "s8xT46p_2CFT",
        "outputId": "d702b1ea-5627-4891-cb53-a63178d68d1a"
      },
      "execution_count": 7,
      "outputs": [
        {
          "output_type": "stream",
          "name": "stdout",
          "text": [
            "x = 5\n",
            "x = 5 is odd\n"
          ]
        }
      ]
    },
    {
      "cell_type": "code",
      "source": [
        "for x in range(11):\n",
        "  print(x)"
      ],
      "metadata": {
        "colab": {
          "base_uri": "https://localhost:8080/"
        },
        "id": "4KtJbSCY29rC",
        "outputId": "476d8f89-a6d3-457a-e36e-dec15f54fda5"
      },
      "execution_count": 9,
      "outputs": [
        {
          "output_type": "stream",
          "name": "stdout",
          "text": [
            "0\n",
            "1\n",
            "2\n",
            "3\n",
            "4\n",
            "5\n",
            "6\n",
            "7\n",
            "8\n",
            "9\n",
            "10\n"
          ]
        }
      ]
    },
    {
      "cell_type": "code",
      "source": [
        "sum = 0\n",
        "for x in range(11):\n",
        "  if x%2==0:\n",
        "    sum = sum + x\n",
        "print('sum = ',sum)"
      ],
      "metadata": {
        "colab": {
          "base_uri": "https://localhost:8080/"
        },
        "id": "BEjYOAVe3gnK",
        "outputId": "17421c32-b6f2-4120-ed39-be1520834e8f"
      },
      "execution_count": 10,
      "outputs": [
        {
          "output_type": "stream",
          "name": "stdout",
          "text": [
            "sum =  30\n"
          ]
        }
      ]
    },
    {
      "cell_type": "code",
      "source": [
        "a,b,c = 8,10,2\n",
        "\n",
        "for i in range(a,b+1):\n",
        "  print(i)"
      ],
      "metadata": {
        "colab": {
          "base_uri": "https://localhost:8080/"
        },
        "id": "eG_XEHTD7KNi",
        "outputId": "1d42322d-7748-4d76-f566-799d7f30bdfc"
      },
      "execution_count": 14,
      "outputs": [
        {
          "output_type": "stream",
          "name": "stdout",
          "text": [
            "8\n",
            "9\n",
            "10\n"
          ]
        }
      ]
    },
    {
      "cell_type": "code",
      "source": [
        "a,b,c = 2,6,2\n",
        "count = 0\n",
        "for i in range(a,b+1):\n",
        "  if i%c == 0:\n",
        "    count = count + 1\n",
        "print('Answer = ',count)"
      ],
      "metadata": {
        "colab": {
          "base_uri": "https://localhost:8080/"
        },
        "id": "GjYVDzb4-4Wl",
        "outputId": "141278d6-cbab-4a4a-c13d-e7d62e7ad867"
      },
      "execution_count": 17,
      "outputs": [
        {
          "output_type": "stream",
          "name": "stdout",
          "text": [
            "Answer =  3\n"
          ]
        }
      ]
    },
    {
      "cell_type": "code",
      "source": [
        "Num = 6\n",
        "if Num > 1:\n",
        "  #yes: Test the number\n",
        "  print('%d is candidate of prime number' %Num)\n",
        "else:\n",
        "  #no\n",
        "  print('%d is NOT prime number' %Num)\n",
        "\n"
      ],
      "metadata": {
        "colab": {
          "base_uri": "https://localhost:8080/"
        },
        "id": "RzRmnT2-B3ab",
        "outputId": "d2af753e-d693-4105-af2b-0c259d08ac53"
      },
      "execution_count": 18,
      "outputs": [
        {
          "output_type": "stream",
          "name": "stdout",
          "text": [
            "6 is candidate fr prime number\n"
          ]
        }
      ]
    }
  ]
}