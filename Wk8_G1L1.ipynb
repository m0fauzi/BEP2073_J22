{
  "nbformat": 4,
  "nbformat_minor": 0,
  "metadata": {
    "colab": {
      "name": "Wk8_G1L1.ipynb",
      "provenance": [],
      "authorship_tag": "ABX9TyPTk709ZjMQqZdgCoPK8NWl",
      "include_colab_link": true
    },
    "kernelspec": {
      "name": "python3",
      "display_name": "Python 3"
    },
    "language_info": {
      "name": "python"
    }
  },
  "cells": [
    {
      "cell_type": "markdown",
      "metadata": {
        "id": "view-in-github",
        "colab_type": "text"
      },
      "source": [
        "<a href=\"https://colab.research.google.com/github/m0fauzi/BEP2073_J22/blob/main/Wk8_G1L1.ipynb\" target=\"_parent\"><img src=\"https://colab.research.google.com/assets/colab-badge.svg\" alt=\"Open In Colab\"/></a>"
      ]
    },
    {
      "cell_type": "code",
      "execution_count": 1,
      "metadata": {
        "colab": {
          "base_uri": "https://localhost:8080/"
        },
        "id": "mD4YA_S-kO_h",
        "outputId": "9f88c466-75cc-46c5-c24a-f963ae75bd05"
      },
      "outputs": [
        {
          "output_type": "stream",
          "name": "stdout",
          "text": [
            "20.085536923187668\n"
          ]
        }
      ],
      "source": [
        "import math\n",
        "\n",
        "x = 3\n",
        "ans = math.exp(x)\n",
        "\n",
        "print(ans)"
      ]
    },
    {
      "cell_type": "code",
      "source": [
        "T = input('T = ') # string value\n",
        "T = int(T)        #integer value\n",
        "T_list = [0,8,16,24,32,40]\n",
        "DO_list = [14.621, 11.843, 9.870, 8.47, 7.305, 6.413]\n",
        "idx = T_list.index(T)\n",
        "DO = DO_list[idx]\n",
        "print('DO =', DO)"
      ],
      "metadata": {
        "colab": {
          "base_uri": "https://localhost:8080/"
        },
        "id": "BTf434rwlA36",
        "outputId": "15c2f13e-1ad9-413b-e926-18fb8ae9522f"
      },
      "execution_count": 7,
      "outputs": [
        {
          "output_type": "stream",
          "name": "stdout",
          "text": [
            "T = 8\n",
            "DO =  11.843\n"
          ]
        }
      ]
    },
    {
      "cell_type": "code",
      "source": [
        "import math \n",
        "\n",
        "x = math.cos(0.1)\n",
        "print(x)"
      ],
      "metadata": {
        "colab": {
          "base_uri": "https://localhost:8080/"
        },
        "id": "Vz5f8Wd3m2rN",
        "outputId": "6f16f0b2-bbe2-4046-876d-318116d90f80"
      },
      "execution_count": 10,
      "outputs": [
        {
          "output_type": "stream",
          "name": "stdout",
          "text": [
            "0.9950041652780258\n"
          ]
        }
      ]
    },
    {
      "cell_type": "code",
      "source": [
        "import math as m\n",
        "\n",
        "x = m.cos(0.1)\n",
        "print(x)"
      ],
      "metadata": {
        "colab": {
          "base_uri": "https://localhost:8080/"
        },
        "id": "rC8MujM5nOfO",
        "outputId": "a0f04f36-5ecd-4dea-9cc9-9502fdfb916c"
      },
      "execution_count": 11,
      "outputs": [
        {
          "output_type": "stream",
          "name": "stdout",
          "text": [
            "0.9950041652780258\n"
          ]
        }
      ]
    },
    {
      "cell_type": "code",
      "source": [
        "from math import cos\n",
        "\n",
        "x = cos(0.1)\n",
        "print(x)"
      ],
      "metadata": {
        "colab": {
          "base_uri": "https://localhost:8080/"
        },
        "id": "b5_FxuH4nerw",
        "outputId": "0eb669c2-c0d6-4e8f-ec9d-0e52e059688c"
      },
      "execution_count": 14,
      "outputs": [
        {
          "output_type": "stream",
          "name": "stdout",
          "text": [
            "0.9950041652780258\n"
          ]
        }
      ]
    },
    {
      "cell_type": "code",
      "source": [
        "# Summision number from 0 to 10\n",
        "sum = 0\n",
        "\n",
        "for i in range(11):\n",
        "  print(i)\n",
        "  sum = sum + i\n",
        "\n",
        "print('Sum =',sum)"
      ],
      "metadata": {
        "colab": {
          "base_uri": "https://localhost:8080/"
        },
        "id": "3tP2c-Krofpy",
        "outputId": "992ae008-c95d-4230-f858-0b9e951e3936"
      },
      "execution_count": 18,
      "outputs": [
        {
          "output_type": "stream",
          "name": "stdout",
          "text": [
            "0\n",
            "1\n",
            "2\n",
            "3\n",
            "4\n",
            "5\n",
            "6\n",
            "7\n",
            "8\n",
            "9\n",
            "10\n",
            "Sum = 55\n"
          ]
        }
      ]
    },
    {
      "cell_type": "code",
      "source": [
        "from math import fsum\n",
        "x = [0,1,2,3,4,5,6,7,8,9,10]\n",
        "Sum = fsum(x)\n",
        "print(Sum)"
      ],
      "metadata": {
        "colab": {
          "base_uri": "https://localhost:8080/"
        },
        "id": "vWanuEEdoqOI",
        "outputId": "3c3b56cd-511b-4019-9924-844104e5d4d4"
      },
      "execution_count": 22,
      "outputs": [
        {
          "output_type": "stream",
          "name": "stdout",
          "text": [
            "55.0\n"
          ]
        }
      ]
    },
    {
      "cell_type": "code",
      "source": [
        "import random as rnd\n",
        "\n",
        "r = rnd.randint(2,5)\n",
        "print(r)"
      ],
      "metadata": {
        "colab": {
          "base_uri": "https://localhost:8080/"
        },
        "id": "VETseAA7qDJQ",
        "outputId": "d7c09ffc-ebff-41e0-b86b-4d50724e8f00"
      },
      "execution_count": 28,
      "outputs": [
        {
          "output_type": "stream",
          "name": "stdout",
          "text": [
            "2\n"
          ]
        }
      ]
    },
    {
      "cell_type": "code",
      "source": [
        "from math import cos, sin\n",
        "#let \n",
        "x = 1\n",
        "y = 7*sin(x) - 3*(cos(x))**2\n",
        "print(y)"
      ],
      "metadata": {
        "colab": {
          "base_uri": "https://localhost:8080/"
        },
        "id": "n6El2vsNrQiJ",
        "outputId": "f8aea1e8-5d16-4eeb-b2d0-bad1e17312d3"
      },
      "execution_count": 33,
      "outputs": [
        {
          "output_type": "stream",
          "name": "stdout",
          "text": [
            "5.0145171484759885\n"
          ]
        }
      ]
    },
    {
      "cell_type": "code",
      "source": [
        "import random as rnd\n",
        "x = rnd.random()\n",
        "print('x =',x)\n",
        "from math import cos, sin\n",
        "y = 7*sin(x) - 3*(cos(x))**2\n",
        "print('y = %0.5f'%y)"
      ],
      "metadata": {
        "colab": {
          "base_uri": "https://localhost:8080/"
        },
        "id": "OJMYVoZks-F_",
        "outputId": "a114a173-53f2-42ab-f635-62f8ad457fcd"
      },
      "execution_count": 44,
      "outputs": [
        {
          "output_type": "stream",
          "name": "stdout",
          "text": [
            "x = 0.2047893251227092\n",
            "y = -1.45241\n"
          ]
        }
      ]
    },
    {
      "cell_type": "code",
      "source": [
        "import numpy as np\n",
        "\n",
        "x = np.linspace(0,5,6)\n",
        "print(x)\n",
        "\n"
      ],
      "metadata": {
        "colab": {
          "base_uri": "https://localhost:8080/"
        },
        "id": "Zu4ePEj0uVo0",
        "outputId": "3e888125-d1f5-40f4-d5e7-667a98116665"
      },
      "execution_count": 47,
      "outputs": [
        {
          "output_type": "stream",
          "name": "stdout",
          "text": [
            "[0. 1. 2. 3. 4. 5.]\n"
          ]
        }
      ]
    },
    {
      "cell_type": "code",
      "source": [
        "x = [1,2,3]\n",
        "print(x)\n",
        "print(type(x))\n",
        "y = np.array([1,2,3])\n",
        "print(y)\n",
        "print(type(y))"
      ],
      "metadata": {
        "colab": {
          "base_uri": "https://localhost:8080/"
        },
        "id": "HIj-gJ2Tu9qG",
        "outputId": "90a2bbca-393c-4203-ea62-a41660e5bffe"
      },
      "execution_count": 50,
      "outputs": [
        {
          "output_type": "stream",
          "name": "stdout",
          "text": [
            "[1, 2, 3]\n",
            "<class 'list'>\n",
            "[1 2 3]\n",
            "<class 'numpy.ndarray'>\n"
          ]
        }
      ]
    },
    {
      "cell_type": "code",
      "source": [
        "y = np.array([1,2,3],float)\n",
        "print(y)"
      ],
      "metadata": {
        "colab": {
          "base_uri": "https://localhost:8080/"
        },
        "id": "GJZP8Furvt2u",
        "outputId": "34127391-61c3-418e-9ec9-22093ccf1481"
      },
      "execution_count": 51,
      "outputs": [
        {
          "output_type": "stream",
          "name": "stdout",
          "text": [
            "[1. 2. 3.]\n"
          ]
        }
      ]
    },
    {
      "cell_type": "code",
      "source": [
        "import numpy as np\n",
        "\n",
        "M = np.ones((3,6))\n",
        "print(M)"
      ],
      "metadata": {
        "colab": {
          "base_uri": "https://localhost:8080/"
        },
        "id": "hBU4mtkMwBJD",
        "outputId": "799f7b30-18e9-4362-bf67-2d9c64c3b42a"
      },
      "execution_count": 53,
      "outputs": [
        {
          "output_type": "stream",
          "name": "stdout",
          "text": [
            "[[1. 1. 1. 1. 1. 1.]\n",
            " [1. 1. 1. 1. 1. 1.]\n",
            " [1. 1. 1. 1. 1. 1.]]\n"
          ]
        }
      ]
    },
    {
      "cell_type": "code",
      "source": [
        "import numpy as np\n",
        "k = np.random.random((6,3))\n",
        "print(k)\n",
        "print(k[2,:])"
      ],
      "metadata": {
        "colab": {
          "base_uri": "https://localhost:8080/"
        },
        "id": "qc7nqW_iwOQD",
        "outputId": "8bae5998-0493-4525-d72c-138a8fd3b985"
      },
      "execution_count": 58,
      "outputs": [
        {
          "output_type": "stream",
          "name": "stdout",
          "text": [
            "[[0.97885244 0.54280586 0.9010212 ]\n",
            " [0.60343604 0.7232003  0.8404527 ]\n",
            " [0.84857413 0.56592765 0.74657522]\n",
            " [0.83879272 0.39796902 0.87792661]\n",
            " [0.83999291 0.13771943 0.96279472]\n",
            " [0.87011823 0.25532464 0.99094974]]\n",
            "[0.84857413 0.56592765 0.74657522]\n"
          ]
        }
      ]
    },
    {
      "cell_type": "code",
      "source": [
        "'''\n",
        "A*X = C\n",
        "'''\n",
        "\n",
        "import numpy as np\n",
        "\n",
        "A = np.array([[1,2],[3,5]])\n",
        "C = np.array([1,2])\n",
        "\n",
        "X = np.linalg.solve(A,C)\n",
        "print(X)\n",
        "\n",
        "print('X1 =',X[0])\n",
        "print('X2 =',X[1])"
      ],
      "metadata": {
        "colab": {
          "base_uri": "https://localhost:8080/"
        },
        "id": "g5hOuTsGxjYu",
        "outputId": "d999e98c-a11f-4f00-9b4a-cc19ccf89c62"
      },
      "execution_count": 60,
      "outputs": [
        {
          "output_type": "stream",
          "name": "stdout",
          "text": [
            "[-1.  1.]\n",
            "X1 = -0.9999999999999994\n",
            "X2 = 0.9999999999999997\n"
          ]
        }
      ]
    },
    {
      "cell_type": "code",
      "source": [
        "import numpy as np\n",
        "import matplotlib.pyplot as p\n",
        "\n",
        "x = np.linspace (0, 10, 10)\n",
        "y = np.power(x, 2)\n",
        "p.plot (x, y,'k*')\n",
        "p.xlabel('X')\n",
        "p.ylabel('Y')\n",
        "p.grid()\n",
        "p.show()\n"
      ],
      "metadata": {
        "colab": {
          "base_uri": "https://localhost:8080/",
          "height": 279
        },
        "id": "jG8NMb4ByhUA",
        "outputId": "95a4e3a2-4571-4255-bf9f-960cbe70aa2a"
      },
      "execution_count": 66,
      "outputs": [
        {
          "output_type": "display_data",
          "data": {
            "image/png": "[encoded data removed]",
            "text/plain": [
              "<Figure size 432x288 with 1 Axes>"
            ]
          },
          "metadata": {
            "needs_background": "light"
          }
        }
      ]
    },
    {
      "cell_type": "code",
      "source": [
        "import numpy as np\n",
        "from matplotlib.pyplot import plot, xlabel, ylabel, grid, show\n",
        "\n",
        "x = np.linspace (0, 10, 10)\n",
        "y = np.power(x, 2)\n",
        "plot (x, y,'k*')\n",
        "xlabel('X')\n",
        "ylabel('Y')\n",
        "grid()\n",
        "show()"
      ],
      "metadata": {
        "colab": {
          "base_uri": "https://localhost:8080/",
          "height": 279
        },
        "id": "8eyS-MuB03nc",
        "outputId": "da4f6ef8-a553-46c8-b1a9-6137181565bc"
      },
      "execution_count": 67,
      "outputs": [
        {
          "output_type": "display_data",
          "data": {
            "image/png": "[encoded data removed]",
            "text/plain": [
              "<Figure size 432x288 with 1 Axes>"
            ]
          },
          "metadata": {
            "needs_background": "light"
          }
        }
      ]
    },
    {
      "cell_type": "code",
      "source": [
        "import numpy as np\n",
        "from matplotlib.pyplot import plot, xlabel, ylabel, grid, show, legend\n",
        "\n",
        "x = np.linspace (0, 10, 10)\n",
        "y1 = np.power(x, 2)\n",
        "y2 = np.power(x, 3)\n",
        "plot (x, y1,'k*',label='y1')\n",
        "plot (x, y2,'bs',label='y2')\n",
        "\n",
        "xlabel('X')\n",
        "ylabel('Y')\n",
        "legend()\n",
        "grid()\n",
        "\n",
        "show()"
      ],
      "metadata": {
        "colab": {
          "base_uri": "https://localhost:8080/",
          "height": 279
        },
        "id": "uJmWTs7G1a71",
        "outputId": "478ffd49-3f4e-482f-9795-a6844d2710b5"
      },
      "execution_count": 69,
      "outputs": [
        {
          "output_type": "display_data",
          "data": {
            "image/png": "[encoded data removed]",
            "text/plain": [
              "<Figure size 432x288 with 1 Axes>"
            ]
          },
          "metadata": {
            "needs_background": "light"
          }
        }
      ]
    },
    {
      "cell_type": "code",
      "source": [
        "import matplotlib.pyplot as plt\n",
        "\n",
        "T = [0,8,16,24,32,40]\n",
        "DO = [14.621, 11.843, 9.870, 8.47, 7.305, 6.413]\n",
        "\n",
        "plt.plot(T,DO,'rs')\n",
        "plt.xlabel('Temperature')\n",
        "plt.ylabel('Dissoved Oxygen')\n"
      ],
      "metadata": {
        "colab": {
          "base_uri": "https://localhost:8080/",
          "height": 296
        },
        "id": "2ghS9L1j2OL_",
        "outputId": "51e84d8d-5507-49ae-890a-a6d7c6587732"
      },
      "execution_count": 72,
      "outputs": [
        {
          "output_type": "execute_result",
          "data": {
            "text/plain": [
              "Text(0, 0.5, 'Dissoved Oxygen')"
            ]
          },
          "metadata": {},
          "execution_count": 72
        },
        {
          "output_type": "display_data",
          "data": {
            "image/png": "[encoded data removed]",
            "text/plain": [
              "<Figure size 432x288 with 1 Axes>"
            ]
          },
          "metadata": {
            "needs_background": "light"
          }
        }
      ]
    }
  ]
}