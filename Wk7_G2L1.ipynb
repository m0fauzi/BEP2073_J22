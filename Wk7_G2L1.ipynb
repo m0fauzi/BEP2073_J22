{
  "nbformat": 4,
  "nbformat_minor": 0,
  "metadata": {
    "colab": {
      "name": "Wk7_G2L1.ipynb",
      "provenance": [],
      "authorship_tag": "ABX9TyOtS9rCrioJH4We2grgaR4c",
      "include_colab_link": true
    },
    "kernelspec": {
      "name": "python3",
      "display_name": "Python 3"
    },
    "language_info": {
      "name": "python"
    }
  },
  "cells": [
    {
      "cell_type": "markdown",
      "metadata": {
        "id": "view-in-github",
        "colab_type": "text"
      },
      "source": [
        "<a href=\"https://colab.research.google.com/github/m0fauzi/BEP2073_J22/blob/main/Wk7_G2L1.ipynb\" target=\"_parent\"><img src=\"https://colab.research.google.com/assets/colab-badge.svg\" alt=\"Open In Colab\"/></a>"
      ]
    },
    {
      "cell_type": "code",
      "execution_count": null,
      "metadata": {
        "id": "5FDV51yOrn4_"
      },
      "outputs": [],
      "source": [
        ""
      ]
    },
    {
      "cell_type": "markdown",
      "source": [
        "# Q1"
      ],
      "metadata": {
        "id": "U8P6kLZBrosu"
      }
    },
    {
      "cell_type": "code",
      "source": [
        "#code for question 1"
      ],
      "metadata": {
        "id": "pcHokTUGrtCD"
      },
      "execution_count": null,
      "outputs": []
    },
    {
      "cell_type": "markdown",
      "source": [
        "# Q2"
      ],
      "metadata": {
        "id": "x31ixZGHrxwi"
      }
    },
    {
      "cell_type": "code",
      "source": [
        "#Code for question 2"
      ],
      "metadata": {
        "id": "mndjEvLtrz99"
      },
      "execution_count": null,
      "outputs": []
    },
    {
      "cell_type": "markdown",
      "source": [
        "# Wk7 G2L1"
      ],
      "metadata": {
        "id": "Okg9YfjvtTec"
      }
    },
    {
      "cell_type": "code",
      "source": [
        "A = [1,4,6,7,5,9]\n",
        "print(A) #access\n",
        "A.append(12) # add\n",
        "print(A)\n",
        "A.remove(6)\n",
        "print(A)"
      ],
      "metadata": {
        "colab": {
          "base_uri": "https://localhost:8080/"
        },
        "id": "rZ_cWnbYtSIT",
        "outputId": "78fb85b8-03a7-4332-f821-dc9075176c37"
      },
      "execution_count": 3,
      "outputs": [
        {
          "output_type": "stream",
          "name": "stdout",
          "text": [
            "[1, 4, 6, 7, 5, 9]\n",
            "[1, 4, 6, 7, 5, 9, 12]\n",
            "[1, 4, 7, 5, 9, 12]\n"
          ]
        }
      ]
    },
    {
      "cell_type": "code",
      "source": [
        "a = 1\n",
        "b = 2\n",
        "sum = a + b\n",
        "print(sum)"
      ],
      "metadata": {
        "colab": {
          "base_uri": "https://localhost:8080/"
        },
        "id": "e8oH7rc7uH7z",
        "outputId": "8aae3e38-c53a-4ddb-d89f-163481d6a8aa"
      },
      "execution_count": 4,
      "outputs": [
        {
          "output_type": "stream",
          "name": "stdout",
          "text": [
            "3\n"
          ]
        }
      ]
    },
    {
      "cell_type": "code",
      "source": [
        "a = input('a = ')\n",
        "b = input('b = ')\n",
        "sum = a + b\n",
        "print(type(a))\n",
        "print(sum)"
      ],
      "metadata": {
        "colab": {
          "base_uri": "https://localhost:8080/"
        },
        "id": "ED827X_wuTlJ",
        "outputId": "f6f7bd2a-5b7e-43e1-dacc-53bcc42c921f"
      },
      "execution_count": 9,
      "outputs": [
        {
          "output_type": "stream",
          "name": "stdout",
          "text": [
            "a = 3\n",
            "b = 4\n",
            "<class 'str'>\n",
            "34\n"
          ]
        }
      ]
    },
    {
      "cell_type": "code",
      "source": [
        "Car1 = {\n",
        "    'Model':'Proton',\n",
        "    'Year':2021\n",
        "}\n",
        "\n",
        "print(Car1['Model'])"
      ],
      "metadata": {
        "colab": {
          "base_uri": "https://localhost:8080/"
        },
        "id": "Q2xV0vKDvHWS",
        "outputId": "b6e310ec-c410-4724-e177-943548505ae0"
      },
      "execution_count": 11,
      "outputs": [
        {
          "output_type": "stream",
          "name": "stdout",
          "text": [
            "Proton\n"
          ]
        }
      ]
    },
    {
      "cell_type": "code",
      "source": [
        "class Car:\n",
        "  Model = 'Proton'\n",
        "  Year = 2021\n",
        "\n",
        "c = Car()\n",
        "print(c.Model)\n",
        "\n",
        "c2 = Car()\n",
        "c2.Model = 'Proton Modified'\n",
        "print(c2.Model)\n",
        "\n",
        "c = Car()\n",
        "print(c.Model)"
      ],
      "metadata": {
        "colab": {
          "base_uri": "https://localhost:8080/"
        },
        "id": "GLkZuFE-vo5b",
        "outputId": "361faa55-ebb8-417c-db57-ba97bff5dedc"
      },
      "execution_count": 15,
      "outputs": [
        {
          "output_type": "stream",
          "name": "stdout",
          "text": [
            "Proton\n",
            "Proton Modified\n",
            "Proton\n"
          ]
        }
      ]
    },
    {
      "cell_type": "code",
      "source": [
        "A = [1,5]\n",
        "A.append(6)\n",
        "print('{ ',A,'}')\n",
        "     "
      ],
      "metadata": {
        "colab": {
          "base_uri": "https://localhost:8080/"
        },
        "id": "W0vmJ3Ww0yo6",
        "outputId": "b72197ff-3fc2-4fb8-ee20-fffd7c06a098"
      },
      "execution_count": 20,
      "outputs": [
        {
          "output_type": "stream",
          "name": "stdout",
          "text": [
            "{  [1, 5, 6] }\n"
          ]
        }
      ]
    },
    {
      "cell_type": "code",
      "source": [
        "x = [51, 82, 22, 54, 71, 78, 48, 34, 48, 10]\n",
        "\n",
        "count = 0\n",
        "oddList = []\n",
        "count2 = 0\n",
        "oddList2 = []\n",
        "\n",
        "for i in x:\n",
        "  if i%2 == 1:\n",
        "    count = count + 1\n",
        "    oddList.append(i)\n",
        "  else:\n",
        "    count2 = count2 + 1\n",
        "    oddList2.append(i)    \n",
        "\n",
        "print('Total ODD number is',count,'=> ',oddList)\n",
        "print('Total EVEN number is',count2,'=> ',oddList2)\n"
      ],
      "metadata": {
        "colab": {
          "base_uri": "https://localhost:8080/"
        },
        "id": "NehBVn7Y21OG",
        "outputId": "224a4293-e976-4ff9-f682-0cec5d23a992"
      },
      "execution_count": 25,
      "outputs": [
        {
          "output_type": "stream",
          "name": "stdout",
          "text": [
            "Total ODD number is 2 =>  [51, 71]\n",
            "Total EVEN number is 8 =>  [82, 22, 54, 78, 48, 34, 48, 10]\n"
          ]
        }
      ]
    },
    {
      "cell_type": "code",
      "source": [
        "a = 1\n",
        "b = 2\n",
        "ans = a + b\n",
        "print(ans)"
      ],
      "metadata": {
        "colab": {
          "base_uri": "https://localhost:8080/"
        },
        "id": "2llo1Pnw4ejP",
        "outputId": "1bc71fb6-16ee-4a58-8e73-d7f7ccd6a46a"
      },
      "execution_count": 26,
      "outputs": [
        {
          "output_type": "stream",
          "name": "stdout",
          "text": [
            "3\n"
          ]
        }
      ]
    },
    {
      "cell_type": "code",
      "source": [
        "import math\n",
        "\n",
        "a = 1\n",
        "b = 2\n",
        "ans = a + math.exp(b)\n",
        "print(ans)"
      ],
      "metadata": {
        "colab": {
          "base_uri": "https://localhost:8080/"
        },
        "id": "bnJgxfg_4qeS",
        "outputId": "dc40a944-452e-4e95-f12f-68ed3155151a"
      },
      "execution_count": 27,
      "outputs": [
        {
          "output_type": "stream",
          "name": "stdout",
          "text": [
            "8.38905609893065\n"
          ]
        }
      ]
    },
    {
      "cell_type": "code",
      "source": [
        "import math\n",
        "t = 5\n",
        "for i in range(13):\n",
        "  if t<= 11:\n",
        "    v = 11*t**2-t\n",
        "  elif t>11 and t<=20:\n",
        "    v = 50*t + 2*(t-3)**2\n",
        "  else:\n",
        "    v = 3*math.exp(-3*t)\n",
        "  print('At t = %d; v = %.5f' %(t,v))\n",
        "  t = t + 2"
      ],
      "metadata": {
        "colab": {
          "base_uri": "https://localhost:8080/"
        },
        "id": "yavRQx985V2Y",
        "outputId": "81bdcf2c-82b2-42da-f45e-143871f53887"
      },
      "execution_count": 34,
      "outputs": [
        {
          "output_type": "stream",
          "name": "stdout",
          "text": [
            "At t = 5; v = 270.00000\n",
            "At t = 7; v = 532.00000\n",
            "At t = 9; v = 882.00000\n",
            "At t = 11; v = 1320.00000\n",
            "At t = 13; v = 850.00000\n",
            "At t = 15; v = 1038.00000\n",
            "At t = 17; v = 1242.00000\n",
            "At t = 19; v = 1462.00000\n",
            "At t = 21; v = 0.00000\n",
            "At t = 23; v = 0.00000\n",
            "At t = 25; v = 0.00000\n",
            "At t = 27; v = 0.00000\n",
            "At t = 29; v = 0.00000\n"
          ]
        }
      ]
    },
    {
      "cell_type": "code",
      "source": [
        "import math\n",
        "t = 5\n",
        "print('===============')\n",
        "print('t\\tv')\n",
        "print('===============')\n",
        "for i in range(13):\n",
        "  if t<= 11:\n",
        "    v = 11*t**2-t\n",
        "  elif t>11 and t<=20:\n",
        "    v = 50*t + 2*(t-3)**2\n",
        "  else:\n",
        "    v = 3*math.exp(-3*t)\n",
        "  print('%d\\t%.2f' %(t,v))\n",
        "  t = t + 2"
      ],
      "metadata": {
        "colab": {
          "base_uri": "https://localhost:8080/"
        },
        "id": "3R6_5AHa64xQ",
        "outputId": "eaaf4459-7606-43f4-975b-f924377adf62"
      },
      "execution_count": 37,
      "outputs": [
        {
          "output_type": "stream",
          "name": "stdout",
          "text": [
            "===============\n",
            "t\tv\n",
            "===============\n",
            "5\t270.00\n",
            "7\t532.00\n",
            "9\t882.00\n",
            "11\t1320.00\n",
            "13\t850.00\n",
            "15\t1038.00\n",
            "17\t1242.00\n",
            "19\t1462.00\n",
            "21\t0.00\n",
            "23\t0.00\n",
            "25\t0.00\n",
            "27\t0.00\n",
            "29\t0.00\n"
          ]
        }
      ]
    }
  ]
}