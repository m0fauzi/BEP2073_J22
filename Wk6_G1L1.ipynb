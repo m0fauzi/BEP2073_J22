{
  "nbformat": 4,
  "nbformat_minor": 0,
  "metadata": {
    "colab": {
      "name": "Wk6_G1L1.ipynb",
      "provenance": [],
      "authorship_tag": "ABX9TyNCV3TWHCE55Q/buQSQ51uM",
      "include_colab_link": true
    },
    "kernelspec": {
      "name": "python3",
      "display_name": "Python 3"
    },
    "language_info": {
      "name": "python"
    }
  },
  "cells": [
    {
      "cell_type": "markdown",
      "metadata": {
        "id": "view-in-github",
        "colab_type": "text"
      },
      "source": [
        "<a href=\"https://colab.research.google.com/github/m0fauzi/BEP2073_J22/blob/main/Wk6_G1L1.ipynb\" target=\"_parent\"><img src=\"https://colab.research.google.com/assets/colab-badge.svg\" alt=\"Open In Colab\"/></a>"
      ]
    },
    {
      "cell_type": "code",
      "execution_count": 5,
      "metadata": {
        "colab": {
          "base_uri": "https://localhost:8080/"
        },
        "id": "Lb08PmOziJbX",
        "outputId": "a1263a02-50a2-44c9-ad7a-cf3f7a1e2604"
      },
      "outputs": [
        {
          "output_type": "stream",
          "name": "stdout",
          "text": [
            "Prime number: 2\n",
            "Prime number: 3\n",
            "Prime number: 5\n",
            "Prime number: 7\n",
            "Prime number: 11\n",
            "Anwer: 5\n"
          ]
        }
      ],
      "source": [
        "a,b = 0,13\n",
        "count = 0\n",
        "for i in range(b):\n",
        "  if i > 1:\n",
        "    #true\n",
        "    for j in range(2,i):\n",
        "      if i%j == 0:\n",
        "        break\n",
        "    else:\n",
        "      print('Prime number: %d' %i)\n",
        "      count = count + 1\n",
        "\n",
        "print('Anwer: %d' %count)"
      ]
    },
    {
      "cell_type": "code",
      "source": [
        "#PV = nRT\n",
        "m,Mw = 41.2, (12+2*16)\n",
        "n = m/Mw\n",
        "R = 0.08206 #L.atm/(K.mol)\n",
        "T = 514 #K\n",
        "P = 51 #atm\n",
        "V = n*R*T/P\n",
        "print('Answer, V = %0.3fL' %V)"
      ],
      "metadata": {
        "colab": {
          "base_uri": "https://localhost:8080/"
        },
        "id": "5mYjz1FxmP_N",
        "outputId": "4a6fc17c-3e0d-4149-f8b3-87b10d90587e"
      },
      "execution_count": 11,
      "outputs": [
        {
          "output_type": "stream",
          "name": "stdout",
          "text": [
            "Answer, V = 0.774L\n"
          ]
        }
      ]
    },
    {
      "cell_type": "code",
      "source": [
        "x = [1,2,3,4]\n",
        "print(x)\n",
        "x.append(5)\n",
        "print(x)\n",
        "\n",
        "print(x[2])\n"
      ],
      "metadata": {
        "colab": {
          "base_uri": "https://localhost:8080/"
        },
        "id": "z_joOYyJn-HX",
        "outputId": "3eb1db68-d638-4e73-f6c3-96a20215c362"
      },
      "execution_count": 15,
      "outputs": [
        {
          "output_type": "stream",
          "name": "stdout",
          "text": [
            "[1, 2, 3, 4]\n",
            "[1, 2, 3, 4, 5]\n",
            "3\n"
          ]
        }
      ]
    },
    {
      "cell_type": "code",
      "source": [
        "t = (1,2,3,4)\n",
        "print(t)\n",
        "T = (1,2,3,'a')\n",
        "print(T)\n",
        "T1 = (1,2,3,'a',True)\n",
        "print(T1)"
      ],
      "metadata": {
        "colab": {
          "base_uri": "https://localhost:8080/"
        },
        "id": "O9qNb2eXozVf",
        "outputId": "f4f225ed-6b59-420e-db9c-bf82e5605331"
      },
      "execution_count": 19,
      "outputs": [
        {
          "output_type": "stream",
          "name": "stdout",
          "text": [
            "(1, 2, 3, 4)\n",
            "(1, 2, 3, 'a')\n",
            "(1, 2, 3, 'a', True)\n"
          ]
        }
      ]
    },
    {
      "cell_type": "code",
      "source": [
        "#PV = nRT\n",
        "m,Mw = 41.2, (12+2*16)\n",
        "n = m/Mw\n",
        "R = 0.08206 #L.atm/(K.mol)\n",
        "T = 514 #K\n",
        "P = [51, 82, 22, 54, 71, 78, 48, 34, 48, 10] #atm\n",
        "for p in P:\n",
        "  V = n*R*T/p\n",
        "  print('Answer: at P = %d; V = %0.3fL' %(p,V))"
      ],
      "metadata": {
        "colab": {
          "base_uri": "https://localhost:8080/"
        },
        "id": "Mu_Qddcjpe_u",
        "outputId": "00e702f3-c43f-4c9d-f9ed-1cb28d7eb6ee"
      },
      "execution_count": 21,
      "outputs": [
        {
          "output_type": "stream",
          "name": "stdout",
          "text": [
            "Answer: at P = 51; V = 0.774L\n",
            "Answer: at P = 82; V = 0.482L\n",
            "Answer: at P = 22; V = 1.795L\n",
            "Answer: at P = 54; V = 0.731L\n",
            "Answer: at P = 71; V = 0.556L\n",
            "Answer: at P = 78; V = 0.506L\n",
            "Answer: at P = 48; V = 0.823L\n",
            "Answer: at P = 34; V = 1.162L\n",
            "Answer: at P = 48; V = 0.823L\n",
            "Answer: at P = 10; V = 3.949L\n"
          ]
        }
      ]
    },
    {
      "cell_type": "code",
      "source": [
        "T = [1,2,23,4,5]\n",
        "DO = [10,23,56,12,24]\n",
        "print(T[2])\n",
        "\n",
        "sel = int(input('T = '))\n",
        "pr = T.index(sel)\n",
        "print('DO = %d' %DO[pr])"
      ],
      "metadata": {
        "colab": {
          "base_uri": "https://localhost:8080/"
        },
        "id": "ewe4OpfUsShu",
        "outputId": "b842042b-6186-4e9b-ac17-9c3a45531d75"
      },
      "execution_count": 29,
      "outputs": [
        {
          "output_type": "stream",
          "name": "stdout",
          "text": [
            "23\n",
            "T = 23\n",
            "DO = 56\n"
          ]
        }
      ]
    },
    {
      "cell_type": "code",
      "source": [
        "T = [1,2,23,4,5]\n",
        "DO = [10,23,56,12,24]\n",
        "\n",
        "for i in [2,5,23]:\n",
        "  pr = T.index(i)\n",
        "  print('at T = %i --> DO = %d' %(i,DO[pr]))"
      ],
      "metadata": {
        "colab": {
          "base_uri": "https://localhost:8080/"
        },
        "id": "Ejaunr36t4IN",
        "outputId": "6dbcc115-8c17-4f79-8da8-d1c376767bc4"
      },
      "execution_count": 32,
      "outputs": [
        {
          "output_type": "stream",
          "name": "stdout",
          "text": [
            "at T = 2 --> DO = 23\n",
            "at T = 5 --> DO = 24\n",
            "at T = 23 --> DO = 56\n"
          ]
        }
      ]
    },
    {
      "cell_type": "code",
      "source": [
        "a = 5\n",
        "print('a = %d' %a)"
      ],
      "metadata": {
        "id": "5dI1tBGVv1fC"
      },
      "execution_count": null,
      "outputs": []
    }
  ]
}