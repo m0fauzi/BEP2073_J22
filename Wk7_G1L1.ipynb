{
  "nbformat": 4,
  "nbformat_minor": 0,
  "metadata": {
    "colab": {
      "name": "Wk7_G1L1.ipynb",
      "provenance": [],
      "authorship_tag": "ABX9TyP8DUDVjcZHZLL83WVbVRpX",
      "include_colab_link": true
    },
    "kernelspec": {
      "name": "python3",
      "display_name": "Python 3"
    },
    "language_info": {
      "name": "python"
    }
  },
  "cells": [
    {
      "cell_type": "markdown",
      "metadata": {
        "id": "view-in-github",
        "colab_type": "text"
      },
      "source": [
        "<a href=\"https://colab.research.google.com/github/m0fauzi/BEP2073_J22/blob/main/Wk7_G1L1.ipynb\" target=\"_parent\"><img src=\"https://colab.research.google.com/assets/colab-badge.svg\" alt=\"Open In Colab\"/></a>"
      ]
    },
    {
      "cell_type": "code",
      "execution_count": 3,
      "metadata": {
        "colab": {
          "base_uri": "https://localhost:8080/"
        },
        "id": "f03agQeOkGFp",
        "outputId": "f78eae84-db51-4f70-c4b2-e2152c8cefdc"
      },
      "outputs": [
        {
          "output_type": "stream",
          "name": "stdout",
          "text": [
            "Total ODD number in x is 2\n"
          ]
        }
      ],
      "source": [
        "x = [51, 82, 22,54, 71, 78, 48,34, 48, 10]\n",
        "count = 0\n",
        "for i in x:\n",
        "  if i%2 == 1:\n",
        "    count +=1\n",
        "print('Total ODD number in x is %d' %count)"
      ]
    },
    {
      "cell_type": "code",
      "source": [
        "a,b = 3,6\n",
        "ans = a + b**2\n",
        "\n",
        "print(ans)"
      ],
      "metadata": {
        "colab": {
          "base_uri": "https://localhost:8080/"
        },
        "id": "DOF4bd36n8hC",
        "outputId": "1c671ca9-f383-40cf-a0f4-db0d785c0388"
      },
      "execution_count": 5,
      "outputs": [
        {
          "output_type": "stream",
          "name": "stdout",
          "text": [
            "39\n"
          ]
        }
      ]
    },
    {
      "cell_type": "code",
      "source": [
        "import math\n",
        "\n",
        "t = 5\n",
        "y = 3*math.exp(-3*t)\n",
        "\n",
        "print(y)"
      ],
      "metadata": {
        "colab": {
          "base_uri": "https://localhost:8080/"
        },
        "id": "mu2dNV-_oQqW",
        "outputId": "72ac1a2b-7056-4583-f742-f22e9e605564"
      },
      "execution_count": 6,
      "outputs": [
        {
          "output_type": "stream",
          "name": "stdout",
          "text": [
            "9.177069615054774e-07\n"
          ]
        }
      ]
    },
    {
      "cell_type": "code",
      "source": [
        "import math as m\n",
        "\n",
        "t = 5\n",
        "y = 3*m.exp(-3*t)\n",
        "\n",
        "print(y)"
      ],
      "metadata": {
        "colab": {
          "base_uri": "https://localhost:8080/"
        },
        "id": "h49_k0Rxo09g",
        "outputId": "801ad241-9d89-4aa9-80d6-0945447ca88c"
      },
      "execution_count": 7,
      "outputs": [
        {
          "output_type": "stream",
          "name": "stdout",
          "text": [
            "9.177069615054774e-07\n"
          ]
        }
      ]
    },
    {
      "cell_type": "code",
      "source": [
        "t = 3\n",
        "for i in range(1,14): \n",
        "  t = t + 2 \n",
        "  print(t)\n",
        "  # Condition 1\n",
        "\n",
        "  # Condition 2\n",
        "\n",
        "  # Condition 3  \n"
      ],
      "metadata": {
        "colab": {
          "base_uri": "https://localhost:8080/"
        },
        "id": "dbKrygs2pK53",
        "outputId": "7ad593a6-691b-4565-e55e-99abd318ebb0"
      },
      "execution_count": 23,
      "outputs": [
        {
          "output_type": "stream",
          "name": "stdout",
          "text": [
            "5\n",
            "7\n",
            "9\n",
            "11\n",
            "13\n",
            "15\n",
            "17\n",
            "19\n",
            "21\n",
            "23\n",
            "25\n",
            "27\n",
            "29\n"
          ]
        }
      ]
    },
    {
      "cell_type": "code",
      "source": [
        "import math\n",
        "\n",
        "t = 4\n",
        "if t<=10:\n",
        "  v = 11*t**2 - t\n",
        "elif t <= 20 and t> 11:\n",
        "  v = 50*t + 2*(t-3)**2\n",
        "else:\n",
        "  v = 3*math.exp(-3*t)\n",
        "\n",
        "print(v)"
      ],
      "metadata": {
        "colab": {
          "base_uri": "https://localhost:8080/"
        },
        "id": "gTcL8Pc9t3wF",
        "outputId": "49557a83-deed-4271-91f8-746150a47095"
      },
      "execution_count": 18,
      "outputs": [
        {
          "output_type": "stream",
          "name": "stdout",
          "text": [
            "172\n"
          ]
        }
      ]
    },
    {
      "cell_type": "code",
      "source": [
        "import math\n",
        "\n",
        "t = 25\n",
        "if t<=10:\n",
        "  v = 1\n",
        "elif t <= 20 and t> 11:\n",
        "  v = 2\n",
        "else:\n",
        "  v = 3\n",
        "\n",
        "print(v)"
      ],
      "metadata": {
        "colab": {
          "base_uri": "https://localhost:8080/"
        },
        "id": "vJ-hxwiyumE0",
        "outputId": "b1b846cf-bc5e-41ce-fae7-2bcc09b203ba"
      },
      "execution_count": 22,
      "outputs": [
        {
          "output_type": "stream",
          "name": "stdout",
          "text": [
            "3\n"
          ]
        }
      ]
    },
    {
      "cell_type": "code",
      "source": [
        "import math\n",
        "t = 3\n",
        "print('===============')\n",
        "print('Time \\tv')\n",
        "print('===============')\n",
        "for i in range(1,14): \n",
        "  t = t + 2 \n",
        "  if t<=10:\n",
        "    v = 11*t**2 - t\n",
        "  elif t <= 20 and t>= 11:\n",
        "    v = 50*t + 2*(t-3)**2\n",
        "  else:\n",
        "    v = 3*math.exp(-3*t)\n",
        "  print('%d\\t%d'%(t,v))\n",
        "\n",
        "print('===============')"
      ],
      "metadata": {
        "colab": {
          "base_uri": "https://localhost:8080/"
        },
        "id": "digHIIWCu4nz",
        "outputId": "4d5fdc1e-df1f-4322-c4eb-5ea1213c9924"
      },
      "execution_count": 35,
      "outputs": [
        {
          "output_type": "stream",
          "name": "stdout",
          "text": [
            "===============\n",
            "Time \tv\n",
            "===============\n",
            "5\t270\n",
            "7\t532\n",
            "9\t882\n",
            "11\t678\n",
            "13\t850\n",
            "15\t1038\n",
            "17\t1242\n",
            "19\t1462\n",
            "21\t0\n",
            "23\t0\n",
            "25\t0\n",
            "27\t0\n",
            "29\t0\n",
            "===============\n"
          ]
        }
      ]
    },
    {
      "cell_type": "code",
      "source": [
        "num = input('number = ')\n",
        "for i in num:\n",
        "  print(i)\n",
        "print('Output: One Hundred Twenty Three')"
      ],
      "metadata": {
        "colab": {
          "base_uri": "https://localhost:8080/"
        },
        "id": "t1xS5W5ByvSr",
        "outputId": "e666fa3b-1972-40d4-fdaa-80327ab3278c"
      },
      "execution_count": 41,
      "outputs": [
        {
          "output_type": "stream",
          "name": "stdout",
          "text": [
            "number = 123\n",
            "1\n",
            "2\n",
            "3\n",
            "Output: One Hundred Twenty Three\n"
          ]
        }
      ]
    },
    {
      "cell_type": "code",
      "source": [
        "import math\n",
        "\n",
        "x = 3\n",
        "\n",
        "ans = math.exp(x)\n",
        "\n",
        "print(ans)"
      ],
      "metadata": {
        "colab": {
          "base_uri": "https://localhost:8080/"
        },
        "id": "kbxGT1tZzXJq",
        "outputId": "11c9c036-1571-4f71-fc58-e740189f041e"
      },
      "execution_count": 42,
      "outputs": [
        {
          "output_type": "stream",
          "name": "stdout",
          "text": [
            "20.085536923187668\n"
          ]
        }
      ]
    }
  ]
}